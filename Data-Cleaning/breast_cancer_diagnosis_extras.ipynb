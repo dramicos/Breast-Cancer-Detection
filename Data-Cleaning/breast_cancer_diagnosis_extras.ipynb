{
 "cells": [
  {
   "cell_type": "code",
   "execution_count": null,
   "metadata": {
    "id": "lkihT9HH0yAA"
   },
   "outputs": [],
   "source": [
    "# Import our dependencies\n",
    "from sklearn.model_selection import train_test_split\n",
    "from sklearn.preprocessing import MinMaxScaler\n",
    "import numpy as np\n",
    "import tensorflow as tf\n",
    "import pandas as pd\n",
    "import matplotlib.pyplot as plt\n",
    "from sklearn.manifold import TSNE"
   ]
  },
  {
   "cell_type": "code",
   "execution_count": null,
   "metadata": {
    "id": "zaGQYmjtfNrg"
   },
   "outputs": [],
   "source": [
    "url = 'https://raw.githubusercontent.com/dramicos/Breast-Cancer-Detection/main/Resources/data.csv'"
   ]
  },
  {
   "cell_type": "code",
   "execution_count": null,
   "metadata": {
    "colab": {
     "base_uri": "https://localhost:8080/",
     "height": 300
    },
    "id": "4MH7M4_EfT4_",
    "outputId": "12cb067f-0bb6-464e-99f2-8d3bc84eec69"
   },
   "outputs": [],
   "source": [
    "df = pd.read_csv(url)\n",
    "df.head()"
   ]
  },
  {
   "cell_type": "code",
   "execution_count": null,
   "metadata": {
    "colab": {
     "base_uri": "https://localhost:8080/",
     "height": 300
    },
    "id": "8Ck8Muu6fqCL",
    "outputId": "45060bbf-ce21-43ee-9b2f-bd37aa11e4ec"
   },
   "outputs": [],
   "source": [
    "# Choose a cutoff value and create a list of diagnosis to be replaced\n",
    "# use the variable name `diagnosis_to_replace`\n",
    "\n",
    "# Transform diagnosis\n",
    "def diagnosis_to_replace(diagnosis):\n",
    "    if diagnosis == \"M\":\n",
    "        return 1\n",
    "    else:\n",
    "        return 0\n",
    "    \n",
    "\n",
    "df[\"diagnosis\"] = df[\"diagnosis\"].apply(diagnosis_to_replace)\n",
    "df.head()"
   ]
  },
  {
   "cell_type": "code",
   "execution_count": null,
   "metadata": {},
   "outputs": [],
   "source": [
    "# Labels for the sections of our pie chart\n",
    "labels = [\"Malignant\", \"Benign\"]\n",
    "\n",
    "# The values of each section of the pie chart\n",
    "sizes = [212, 357]\n",
    "\n",
    "# The colors of each section of the pie chart\n",
    "colors = [\"lightcoral\", \"lightskyblue\"]\n",
    "\n",
    "# Tells matplotlib to separate the \"Benign\" section from the others\n",
    "explode = (0.1, 0)"
   ]
  },
  {
   "cell_type": "code",
   "execution_count": null,
   "metadata": {},
   "outputs": [],
   "source": [
    "# Creates the pie chart based upon the values above\n",
    "# Automatically finds the percentages of each part of the pie chart\n",
    "plt.pie(sizes, explode=explode, labels=labels, colors=colors,\n",
    "        autopct=\"%1.1f%%\", shadow=True, startangle=140)"
   ]
  },
  {
   "cell_type": "code",
   "execution_count": null,
   "metadata": {},
   "outputs": [],
   "source": [
    "# Save piechart as Image\n",
    "plt.savefig('piechart_mal_vs_be.png')"
   ]
  },
  {
   "cell_type": "code",
   "execution_count": null,
   "metadata": {},
   "outputs": [],
   "source": [
    "#Locate the value 1 in column diagnosis\n",
    "malignant = df.loc[(df[\"diagnosis\"] == 1)]\n",
    "malignant"
   ]
  },
  {
   "cell_type": "code",
   "execution_count": null,
   "metadata": {},
   "outputs": [],
   "source": [
    "# Split our preprocessed data into our features and target arrays also drop the id as that is not useful\n",
    "malignant_X = malignant.drop([\"diagnosis\", \"id\"], axis='columns')\n",
    "malignant_y = malignant[\"diagnosis\"]\n",
    "malignant_X "
   ]
  },
  {
   "cell_type": "code",
   "execution_count": null,
   "metadata": {},
   "outputs": [],
   "source": [
    "malignant_X.hist(figsize=(15,15), color = \"lightcoral\")\n",
    "plt.show()"
   ]
  },
  {
   "cell_type": "code",
   "execution_count": null,
   "metadata": {},
   "outputs": [],
   "source": [
    "malignant.describe()"
   ]
  },
  {
   "cell_type": "code",
   "execution_count": null,
   "metadata": {},
   "outputs": [],
   "source": [
    " # Set x axis and tick locations\n",
    "# x_axis = np.arange(len(malignant))\n",
    "# tick_locations = [value+0.4 for value in x_axis]"
   ]
  },
  {
   "cell_type": "code",
   "execution_count": null,
   "metadata": {},
   "outputs": [],
   "source": [
    "#Locate the value 0 in column diagnosis\n",
    "benign = df.loc[(df[\"diagnosis\"] == 0)]\n",
    "benign"
   ]
  },
  {
   "cell_type": "code",
   "execution_count": null,
   "metadata": {},
   "outputs": [],
   "source": [
    "# Split our preprocessed data into our features and target arrays also drop the id as that is not useful\n",
    "benign_X = benign.drop([\"diagnosis\", \"id\"], axis='columns')\n",
    "benign_y = benign[\"diagnosis\"]\n",
    "benign_X "
   ]
  },
  {
   "cell_type": "code",
   "execution_count": null,
   "metadata": {},
   "outputs": [],
   "source": [
    "benign_X.hist(figsize=(15,15), color = \"lightskyblue\")\n",
    "plt.show()"
   ]
  },
  {
   "cell_type": "code",
   "execution_count": null,
   "metadata": {},
   "outputs": [],
   "source": [
    "benign.describe()"
   ]
  },
  {
   "cell_type": "code",
   "execution_count": null,
   "metadata": {
    "colab": {
     "base_uri": "https://localhost:8080/",
     "height": 488
    },
    "id": "q6Dk6ktagM6A",
    "outputId": "5f9ebc74-1dad-4184-ca90-740cf01fe994"
   },
   "outputs": [],
   "source": [
    "# Split our preprocessed data into our features and target arrays also drop the id as that is not useful\n",
    "X = df.drop([\"diagnosis\", \"id\"], axis='columns')\n",
    "y = df[\"diagnosis\"]\n",
    "X"
   ]
  },
  {
   "cell_type": "code",
   "execution_count": null,
   "metadata": {
    "colab": {
     "base_uri": "https://localhost:8080/",
     "height": 879
    },
    "id": "emsnKJlzQSt1",
    "outputId": "1e19c6d8-b501-4301-c8cf-a05ef9745b97"
   },
   "outputs": [],
   "source": [
    "X.hist(figsize=(15,15))\n",
    "plt.show()"
   ]
  },
  {
   "cell_type": "code",
   "execution_count": null,
   "metadata": {},
   "outputs": [],
   "source": [
    "# Save histogram as Image\n",
    "plt.savefig('histogram.png')"
   ]
  },
  {
   "cell_type": "code",
   "execution_count": null,
   "metadata": {},
   "outputs": [],
   "source": [
    " # Create a variable for y\n",
    "# mean = \"radius_mean\"\n",
    "# se = \"radius_se\"\n",
    "# worst = \"radius_worst\""
   ]
  },
  {
   "cell_type": "code",
   "execution_count": null,
   "metadata": {},
   "outputs": [],
   "source": [
    "# Set type of comparison\n",
    "# columns_to_compare = \"radius\""
   ]
  },
  {
   "cell_type": "code",
   "execution_count": null,
   "metadata": {},
   "outputs": [],
   "source": [
    "\n",
    "# radius_mean = benign.loc[mean,\n",
    "#                          [f\"radius{columns_to_compare}\",\n",
    "#                           f\"radius{columns_to_compare}\", \n",
    "#                           f\"radius{columns_to_compare}\"]]\n",
    "\n",
    "# radius_se = benign.loc[se,\n",
    "#                          [f\"radius{columns_to_compare}\",\n",
    "#                           f\"radius{columns_to_compare}\", \n",
    "#                           f\"radius{columns_to_compare}\"]]\n",
    "\n",
    "# radius_worst = benign.loc[worst,\n",
    "#                          [f\"radius{columns_to_compare}\",\n",
    "#                           f\"radius{columns_to_compare}\", \n",
    "#                           f\"radius{columns_to_compare}\"]]"
   ]
  },
  {
   "cell_type": "code",
   "execution_count": null,
   "metadata": {},
   "outputs": [],
   "source": [
    "#Locate the value 0 in column diagnosis\n",
    "# benign_mul_plot = benign.loc[(benign[\"diagnosis\"] == 0)]\n",
    "# benign"
   ]
  },
  {
   "cell_type": "code",
   "execution_count": null,
   "metadata": {},
   "outputs": [],
   "source": [
    "# Create plot multiple columns \n",
    "# benign_multi_plot = benign.plot(kind=\"bar\", figsize=(20,5))\n",
    "\n",
    "# # PandasPlot.set_xticklabels() can be used to set the tick labels as well\n",
    "# benign_multi_plot.set_xticklabels(benign[\"radius_mean\"], rotation=45)\n",
    "\n",
    "# plt.show()\n",
    "# plt.tight_layout()"
   ]
  },
  {
   "cell_type": "code",
   "execution_count": null,
   "metadata": {
    "colab": {
     "base_uri": "https://localhost:8080/"
    },
    "id": "t2MMnDMbgc1L",
    "outputId": "8c67d374-c323-4948-9c45-c7afd286978f"
   },
   "outputs": [],
   "source": [
    "benign = df.loc[df['diagnosis']==0]\n",
    "benign.drop(columns=['id','diagnosis'], inplace=True)"
   ]
  },
  {
   "cell_type": "code",
   "execution_count": null,
   "metadata": {
    "colab": {
     "base_uri": "https://localhost:8080/"
    },
    "id": "wWkjJVA3gocy",
    "outputId": "ba112997-62ec-44b7-ba8a-1f89e5d03ebe"
   },
   "outputs": [],
   "source": [
    "benign.shape"
   ]
  },
  {
   "cell_type": "code",
   "execution_count": null,
   "metadata": {
    "id": "eKAB_Fnpgr2v"
   },
   "outputs": [],
   "source": [
    "malign = df.loc[df['diagnosis']==1]\n",
    "malign.drop(columns=['id','diagnosis'], inplace=True)"
   ]
  },
  {
   "cell_type": "code",
   "execution_count": null,
   "metadata": {
    "colab": {
     "base_uri": "https://localhost:8080/"
    },
    "id": "Q-p4AADahB33",
    "outputId": "3e59857b-d9fa-4e54-dd1c-de9362388db3"
   },
   "outputs": [],
   "source": [
    "malign.shape"
   ]
  },
  {
   "cell_type": "code",
   "execution_count": null,
   "metadata": {
    "id": "cc8sv7mhhERc"
   },
   "outputs": [],
   "source": [
    "balanced_df = df.drop(df.loc[df['diagnosis'] == 0].sample(n=(benign.shape[0] - malign.shape[0])).index ).reset_index(drop=True)"
   ]
  },
  {
   "cell_type": "code",
   "execution_count": null,
   "metadata": {
    "colab": {
     "base_uri": "https://localhost:8080/"
    },
    "id": "Y9ZZmHj29lOJ",
    "outputId": "0d311a71-8193-42bb-8c04-f30bfe03553e"
   },
   "outputs": [],
   "source": [
    "balanced_df.shape"
   ]
  },
  {
   "cell_type": "code",
   "execution_count": null,
   "metadata": {
    "colab": {
     "base_uri": "https://localhost:8080/",
     "height": 488
    },
    "id": "UCk3TVeCAqPv",
    "outputId": "e0db27d3-1707-4300-9725-6515a0b0c538"
   },
   "outputs": [],
   "source": [
    "balanced_df.head()"
   ]
  },
  {
   "cell_type": "code",
   "execution_count": null,
   "metadata": {
    "colab": {
     "base_uri": "https://localhost:8080/",
     "height": 237
    },
    "id": "OXnVgYxHKEpM",
    "outputId": "0831f12b-c541-4e6d-9f9f-5d5a8d2a6b86"
   },
   "outputs": [],
   "source": [
    "balanced_df.groupby('diagnosis').count()"
   ]
  },
  {
   "cell_type": "code",
   "execution_count": null,
   "metadata": {
    "id": "ir41z_9g_1jm"
   },
   "outputs": [],
   "source": [
    "b_X = balanced_df.drop([\"diagnosis\", \"id\"], axis='columns')\n",
    "b_y = balanced_df['diagnosis']"
   ]
  },
  {
   "cell_type": "code",
   "execution_count": null,
   "metadata": {},
   "outputs": [],
   "source": [
    "b_X.columns"
   ]
  },
  {
   "cell_type": "code",
   "execution_count": null,
   "metadata": {},
   "outputs": [],
   "source": [
    "# balanced_df.groupby('radius_mean').mean()"
   ]
  },
  {
   "cell_type": "code",
   "execution_count": null,
   "metadata": {},
   "outputs": [],
   "source": [
    "# from sklearn.datasets import make_blobs\n",
    "\n",
    "# X, y = make_blobs(centers=2, random_state=42)\n",
    "\n",
    "# print(f\"Labels: {y[:32]}\")\n",
    "# print(f\"Data: {X[:32]}\")"
   ]
  },
  {
   "cell_type": "code",
   "execution_count": null,
   "metadata": {},
   "outputs": [],
   "source": [
    " # Visualizing both classes\n",
    "# plt.scatter(X[:, 0], X[:, 1], c=y)"
   ]
  },
  {
   "cell_type": "code",
   "execution_count": null,
   "metadata": {
    "id": "euUfaRR_9o55"
   },
   "outputs": [],
   "source": [
    "# compare the 2 datasets balanced and normal\n",
    "X_train, X_test, y_train, y_test = train_test_split(X, y, random_state=1, stratify=y)"
   ]
  },
  {
   "cell_type": "code",
   "execution_count": null,
   "metadata": {
    "id": "wffT19ktCse0"
   },
   "outputs": [],
   "source": [
    "b_X_train, b_X_test, b_y_train, b_y_test = train_test_split(b_X, b_y, random_state=2, stratify=b_y, test_size=0.31)"
   ]
  },
  {
   "cell_type": "code",
   "execution_count": null,
   "metadata": {
    "id": "mXQ7RwvWP61H"
   },
   "outputs": [],
   "source": [
    "# Create a MinMaxScaler instance since all values are positive to try for better results\n",
    "scaler = MinMaxScaler()\n",
    "\n",
    "# Fit the MinMaxScaler\n",
    "X_scaler = scaler.fit(X_train)\n",
    "\n",
    "# Scale the data\n",
    "X_train_scaled = X_scaler.transform(X_train)\n",
    "X_test_scaled = X_scaler.transform(X_test)"
   ]
  },
  {
   "cell_type": "code",
   "execution_count": null,
   "metadata": {
    "id": "YSQjjvJ0DDrU"
   },
   "outputs": [],
   "source": [
    "# Fit the MinMaxScaler for balanced\n",
    "b_X_scaler = scaler.fit(b_X_train)\n",
    "\n",
    "# Scale the data\n",
    "b_X_train_scaled = b_X_scaler.transform(b_X_train)\n",
    "b_X_test_scaled = b_X_scaler.transform(b_X_test)"
   ]
  },
  {
   "cell_type": "code",
   "execution_count": null,
   "metadata": {
    "colab": {
     "base_uri": "https://localhost:8080/"
    },
    "id": "ItN-ESARQX6q",
    "outputId": "a2288ee1-616a-4d92-d79e-1b95f9ef489f"
   },
   "outputs": [],
   "source": [
    "#  Trial one: Logistic Regression Algorithm raw\n",
    "from sklearn.linear_model import LogisticRegression\n",
    "\n",
    "lr = LogisticRegression(random_state = 78, max_iter=10000)\n",
    "lr.fit(X_train, y_train)\n",
    "\n",
    "print(f\"Training Data Score: {lr.score(X_train, y_train)}\")\n",
    "print(f\"Testing Data Score: {lr.score(X_test, y_test)}\")"
   ]
  },
  {
   "cell_type": "code",
   "execution_count": null,
   "metadata": {},
   "outputs": [],
   "source": [
    " # Generate a new data point (the red circle)\n",
    "# import numpy as np\n",
    "# new_data = np.array([[-2, 6]])\n",
    "# plt.scatter(X[:, 0], X[:, 1], c=y)\n",
    "# plt.scatter(new_data[0, 0], new_data[0, 1], c=\"r\", marker=\"o\", s=100)"
   ]
  },
  {
   "cell_type": "code",
   "execution_count": null,
   "metadata": {},
   "outputs": [],
   "source": [
    "import seaborn as sns\n",
    "\n",
    "#define the predictor variable and the response variable:'radius_mean'\n",
    "x = balanced_df['diagnosis']\n",
    "y = balanced_df['radius_mean']\n",
    "\n",
    "#plot logistic regression curve\n",
    "sns.regplot(x=x, y=y, data=balanced_df, logistic=True, ci=None)"
   ]
  },
  {
   "cell_type": "code",
   "execution_count": null,
   "metadata": {},
   "outputs": [],
   "source": [
    "#define the predictor variable and the response variable: 'radius_se'\n",
    "x = balanced_df['diagnosis']\n",
    "y = balanced_df['radius_se']\n",
    "\n",
    "#plot logistic regression curve\n",
    "sns.regplot(x=x, y=y, data=balanced_df, logistic=True, ci=None)"
   ]
  },
  {
   "cell_type": "code",
   "execution_count": null,
   "metadata": {},
   "outputs": [],
   "source": [
    "#define the predictor variable and the response variable: 'radius_worst'\n",
    "x = balanced_df['diagnosis']\n",
    "y = balanced_df['radius_worst']\n",
    "\n",
    "#plot logistic regression curve\n",
    "sns.regplot(x=x, y=y, data=balanced_df, logistic=True, ci=None)"
   ]
  },
  {
   "cell_type": "code",
   "execution_count": null,
   "metadata": {},
   "outputs": [],
   "source": [
    "#define the predictor variable and the response variable:'texture_mean'\n",
    "x = balanced_df['diagnosis']\n",
    "y = balanced_df['texture_mean']\n",
    "\n",
    "#plot logistic regression curve\n",
    "sns.regplot(x=x, y=y, data=balanced_df, logistic=True, ci=None, color = 'red')"
   ]
  },
  {
   "cell_type": "code",
   "execution_count": null,
   "metadata": {},
   "outputs": [],
   "source": [
    "#define the predictor variable and the response variable: 'texture_se'\n",
    "x = balanced_df['diagnosis']\n",
    "y = balanced_df['texture_se']\n",
    "\n",
    "#plot logistic regression curve\n",
    "sns.regplot(x=x, y=y, data=balanced_df, logistic=True, ci=None, color = 'red')"
   ]
  },
  {
   "cell_type": "code",
   "execution_count": null,
   "metadata": {},
   "outputs": [],
   "source": [
    "#define the predictor variable and the response variable: 'texture_worst'\n",
    "x = balanced_df['diagnosis']\n",
    "y = balanced_df['texture_worst']\n",
    "\n",
    "#plot logistic regression curve\n",
    "sns.regplot(x=x, y=y, data=balanced_df, logistic=True, ci=None, color = 'red')"
   ]
  },
  {
   "cell_type": "code",
   "execution_count": null,
   "metadata": {
    "colab": {
     "base_uri": "https://localhost:8080/"
    },
    "id": "SRLagdF3QXfx",
    "outputId": "6a4abeb7-5c98-4edb-f81b-16265b1d5396"
   },
   "outputs": [],
   "source": [
    "#  Trial two: Logistic Regression Algorithm balanced\n",
    "from sklearn.linear_model import LogisticRegression\n",
    "\n",
    "b_lr = LogisticRegression(random_state = 78, max_iter=10000)\n",
    "b_lr.fit(b_X_train, b_y_train)\n",
    "\n",
    "print(f\"Training Data Score: {lr.score(b_X_train, b_y_train)}\")\n",
    "print(f\"Testing Data Score: {lr.score(b_X_test, b_y_test)}\")"
   ]
  },
  {
   "cell_type": "code",
   "execution_count": null,
   "metadata": {},
   "outputs": [],
   "source": []
  },
  {
   "cell_type": "code",
   "execution_count": null,
   "metadata": {
    "colab": {
     "base_uri": "https://localhost:8080/"
    },
    "id": "85WaA3cUQXRf",
    "outputId": "988215a3-e8e2-473e-b1ab-f0571407bf56"
   },
   "outputs": [],
   "source": [
    "#  Trial two: Random Forest Classifier raw\n",
    "from sklearn.ensemble import RandomForestClassifier\n",
    "\n",
    "rfc = RandomForestClassifier(random_state=78, n_estimators=250).fit(X_train_scaled, y_train)\n",
    "\n",
    "print(f'Training Score: {rfc.score(X_train_scaled, y_train)}')\n",
    "print(f'Testing Score: {rfc.score(X_test_scaled, y_test)}')"
   ]
  },
  {
   "cell_type": "code",
   "execution_count": null,
   "metadata": {},
   "outputs": [],
   "source": [
    "from sklearn.utils import resample"
   ]
  },
  {
   "cell_type": "code",
   "execution_count": null,
   "metadata": {},
   "outputs": [],
   "source": [
    "rfcs = []\n",
    "scores = []\n",
    "for i in range(50):\n",
    "    \n",
    "    # Sample the data for each new tree\n",
    "    X_train_scaled_bootstrap, y_train_bootstrap = resample(X_train_scaled, y_train, random_state=i)\n",
    "    \n",
    "    # Create a decision tree and append it to our list of classifiers\n",
    "    rfc = RandomForestClassifier(random_state=i+200).fit(X_train_scaled_bootstrap, y_train_bootstrap)\n",
    "    rfcs.append(rfc)\n",
    "    \n",
    "    # Take the median score of all the created classifiers\n",
    "    y_preds = [b_rfc.predict(X_test_scaled) for rfc in rfcs]\n",
    "    y_pred = pd.DataFrame(y_preds).median().round()\n",
    "    score = accuracy_score(y_test, y_pred)\n",
    "    scores.append(score)\n",
    "\n",
    "plt.plot(scores)\n",
    "plt.show()\n",
    "print(f'score: {score}')"
   ]
  },
  {
   "cell_type": "code",
   "execution_count": null,
   "metadata": {
    "colab": {
     "base_uri": "https://localhost:8080/"
    },
    "id": "U_PCwdX9RGXi",
    "outputId": "2e29fd0f-2f1e-4294-e877-dbe9c2f95cb1"
   },
   "outputs": [],
   "source": [
    "#  Trial two: Random Forest Classifier raw\n",
    "from sklearn.ensemble import RandomForestClassifier\n",
    "\n",
    "b_rfc = RandomForestClassifier(random_state=78, n_estimators=100).fit(b_X_train_scaled, b_y_train)\n",
    "\n",
    "print(f'Training Score: {rfc.score(b_X_train_scaled, b_y_train)}')\n",
    "print(f'Testing Score: {rfc.score(b_X_test_scaled, b_y_test)}')"
   ]
  },
  {
   "cell_type": "code",
   "execution_count": null,
   "metadata": {},
   "outputs": [],
   "source": [
    "b_rfcs = []\n",
    "scores = []\n",
    "for i in range(50):\n",
    "    \n",
    "    # Sample the data for each new tree\n",
    "    X_train_scaled_bootstrap, y_train_bootstrap = resample(X_train_scaled, y_train, random_state=i)\n",
    "    \n",
    "    # Create a decision tree and append it to our list of classifiers\n",
    "    b_rfc = RandomForestClassifier(random_state=i+200).fit(X_train_scaled_bootstrap, y_train_bootstrap)\n",
    "    b_rfcs.append(b_rfc)\n",
    "    \n",
    "    # Take the median score of all the created classifiers\n",
    "    y_preds = [b_rfc.predict(X_test_scaled) for b_rfc in b_rfcs]\n",
    "    y_pred = pd.DataFrame(y_preds).median().round()\n",
    "    score = accuracy_score(y_test, y_pred)\n",
    "    scores.append(score)\n",
    "\n",
    "plt.plot(scores)\n",
    "plt.show()\n",
    "print(f'score: {score}')"
   ]
  },
  {
   "cell_type": "code",
   "execution_count": null,
   "metadata": {
    "id": "VoyfxJO_ThVE"
   },
   "outputs": [],
   "source": [
    "y_pred = rfc.predict(X_test_scaled)"
   ]
  },
  {
   "cell_type": "code",
   "execution_count": null,
   "metadata": {
    "id": "bl9PTjfcU7wV"
   },
   "outputs": [],
   "source": [
    "b_y_pred = rfc.predict(b_X_test_scaled)"
   ]
  },
  {
   "cell_type": "code",
   "execution_count": null,
   "metadata": {
    "id": "t2GcCCQ0U7Vj"
   },
   "outputs": [],
   "source": [
    "from sklearn.metrics import confusion_matrix"
   ]
  },
  {
   "cell_type": "code",
   "execution_count": null,
   "metadata": {
    "colab": {
     "base_uri": "https://localhost:8080/"
    },
    "id": "XXecDDYGU60K",
    "outputId": "d729019e-95ec-4acd-c2d1-841a84f93dfb"
   },
   "outputs": [],
   "source": [
    "cm = confusion_matrix(y_test, y_pred)\n",
    "cm"
   ]
  },
  {
   "cell_type": "code",
   "execution_count": null,
   "metadata": {
    "colab": {
     "base_uri": "https://localhost:8080/"
    },
    "id": "HTi4rziLTfr1",
    "outputId": "85f08df8-965b-4fd4-e69b-707dca5553d2"
   },
   "outputs": [],
   "source": [
    "b_cm = confusion_matrix(b_y_test, b_y_pred)\n",
    "b_cm"
   ]
  },
  {
   "cell_type": "code",
   "execution_count": null,
   "metadata": {
    "id": "ia45KBR1VjPY"
   },
   "outputs": [],
   "source": [
    "btn, bfp, bfn, btp = confusion_matrix(b_y_test, b_y_pred).ravel()"
   ]
  },
  {
   "cell_type": "code",
   "execution_count": null,
   "metadata": {
    "colab": {
     "base_uri": "https://localhost:8080/"
    },
    "id": "F40i5UMuWOB-",
    "outputId": "551c8131-b978-4ea4-f83f-04147c57202a"
   },
   "outputs": [],
   "source": [
    "bad = bfn/(btn + bfp + bfn + btn)\n",
    "print(bad)"
   ]
  },
  {
   "cell_type": "code",
   "execution_count": null,
   "metadata": {
    "id": "F6OVtm_oWera"
   },
   "outputs": [],
   "source": [
    "threshold = 0.5"
   ]
  },
  {
   "cell_type": "code",
   "execution_count": null,
   "metadata": {
    "colab": {
     "base_uri": "https://localhost:8080/"
    },
    "id": "OiM_-ZHFwG_F",
    "outputId": "483f8301-2016-45a3-81f4-b4e2eb30ef67"
   },
   "outputs": [],
   "source": [
    "pred_proba = b_rfc.predict_proba(b_X_test)\n",
    "predicted = (pred_proba [:,1] >= threshold).astype('int')"
   ]
  },
  {
   "cell_type": "code",
   "execution_count": null,
   "metadata": {
    "id": "XjcGXi7Bx5G3"
   },
   "outputs": [],
   "source": [
    "from sklearn.metrics import accuracy_score"
   ]
  },
  {
   "cell_type": "code",
   "execution_count": null,
   "metadata": {
    "colab": {
     "base_uri": "https://localhost:8080/"
    },
    "id": "KmGhLj7zxRJl",
    "outputId": "e58b4f8b-f583-4d50-8ff9-519d31e673ad"
   },
   "outputs": [],
   "source": [
    "accuracy = accuracy_score(b_y_test, predicted)\n",
    "print(round(accuracy,4)*100, \"%\")"
   ]
  },
  {
   "cell_type": "code",
   "execution_count": null,
   "metadata": {
    "id": "uGcxeSFXxyWp"
   },
   "outputs": [],
   "source": [
    "# We decided to drop a few more benign rows to bias toward malignant\n",
    "\n",
    "nb_df = df.drop(   df.loc[df['diagnosis'] == 0].sample(n=(benign.shape[0] - malign.shape[0]+50)).index ).reset_index(drop=True)"
   ]
  },
  {
   "cell_type": "code",
   "execution_count": null,
   "metadata": {
    "colab": {
     "base_uri": "https://localhost:8080/"
    },
    "id": "QyVKYaAj7Pdd",
    "outputId": "14193328-3770-4067-d2e0-57586a7a7940"
   },
   "outputs": [],
   "source": [
    "nb_df.shape"
   ]
  },
  {
   "cell_type": "code",
   "execution_count": null,
   "metadata": {
    "colab": {
     "base_uri": "https://localhost:8080/",
     "height": 300
    },
    "id": "YpcCz96_7WDZ",
    "outputId": "9706f226-de6e-4f65-b888-284f095f7c6d"
   },
   "outputs": [],
   "source": [
    "nb_df.head()"
   ]
  },
  {
   "cell_type": "code",
   "execution_count": null,
   "metadata": {
    "id": "HIbrfa5q4dvu"
   },
   "outputs": [],
   "source": [
    "nb_X = balanced_df.drop([\"diagnosis\", \"id\"], axis='columns')\n",
    "nb_y = balanced_df['diagnosis']"
   ]
  },
  {
   "cell_type": "code",
   "execution_count": null,
   "metadata": {
    "id": "a5WBSkno4m-L"
   },
   "outputs": [],
   "source": [
    "# We tried varying the test size and got the best results at 31% test size\n",
    "nb_X_train, nb_X_test, nb_y_train, nb_y_test = train_test_split(nb_X, nb_y, random_state=74, stratify=nb_y, test_size=0.31)"
   ]
  },
  {
   "cell_type": "code",
   "execution_count": null,
   "metadata": {
    "id": "zD1Smkve5jR0"
   },
   "outputs": [],
   "source": [
    "nb_X_scaler = scaler.fit(nb_X_train)\n",
    "\n",
    "# Scale the data\n",
    "nb_X_train_scaled = nb_X_scaler.transform(nb_X_train)\n",
    "nb_X_test_scaled = nb_X_scaler.transform(nb_X_test)"
   ]
  },
  {
   "cell_type": "code",
   "execution_count": null,
   "metadata": {
    "colab": {
     "base_uri": "https://localhost:8080/"
    },
    "id": "alGFUtz85BPT",
    "outputId": "09feb125-1d23-4f7d-d8b8-cf602589ddd2"
   },
   "outputs": [],
   "source": [
    "nb_rfc = RandomForestClassifier(random_state=78, n_estimators=100).fit(nb_X_train_scaled, nb_y_train)\n",
    "\n",
    "print(f'Training Score: {rfc.score(nb_X_train_scaled, nb_y_train)}')\n",
    "print(f'Testing Score: {rfc.score(nb_X_test_scaled, nb_y_test)}')"
   ]
  },
  {
   "cell_type": "code",
   "execution_count": null,
   "metadata": {
    "id": "Y4MiGmPc506t"
   },
   "outputs": [],
   "source": [
    "nb_y_pred = rfc.predict(nb_X_test_scaled)"
   ]
  },
  {
   "cell_type": "code",
   "execution_count": null,
   "metadata": {
    "colab": {
     "base_uri": "https://localhost:8080/"
    },
    "id": "VZ4xg5P05aq8",
    "outputId": "8df92ca1-9c77-4afa-90ff-431518a0609e"
   },
   "outputs": [],
   "source": [
    "nb_cm = confusion_matrix(nb_y_test, nb_y_pred)\n",
    "nb_cm"
   ]
  },
  {
   "cell_type": "code",
   "execution_count": null,
   "metadata": {
    "id": "HudxfAXsH6UD"
   },
   "outputs": [],
   "source": [
    "btn, bfp, bfn, btp = confusion_matrix(nb_y_test, nb_y_pred).ravel()"
   ]
  },
  {
   "cell_type": "code",
   "execution_count": null,
   "metadata": {
    "colab": {
     "base_uri": "https://localhost:8080/"
    },
    "id": "20RnZHvwIHdL",
    "outputId": "ccfc0cc2-c779-4f81-8ea3-c84dccf4a2e7"
   },
   "outputs": [],
   "source": [
    "bad = bfn/(btn + bfp + bfn + btn)\n",
    "print(bad)"
   ]
  },
  {
   "cell_type": "code",
   "execution_count": null,
   "metadata": {
    "id": "XvsJXVGY5yBg"
   },
   "outputs": [],
   "source": [
    "from sklearn.decomposition import PCA\n",
    "from sklearn.manifold import TSNE"
   ]
  },
  {
   "cell_type": "code",
   "execution_count": null,
   "metadata": {
    "id": "SQvGH-rx8JLT"
   },
   "outputs": [],
   "source": [
    "tsne = TSNE(learning_rate=35)"
   ]
  },
  {
   "cell_type": "code",
   "execution_count": null,
   "metadata": {
    "colab": {
     "base_uri": "https://localhost:8080/"
    },
    "id": "B5T7-UQ88URA",
    "outputId": "20219cbd-4e63-4b61-c07a-a04605f7d7ea"
   },
   "outputs": [],
   "source": [
    "tsne_features = tsne.fit_transform(nb_X_train_scaled)"
   ]
  },
  {
   "cell_type": "code",
   "execution_count": null,
   "metadata": {
    "colab": {
     "base_uri": "https://localhost:8080/"
    },
    "id": "HPNCwetj8miv",
    "outputId": "361b27b2-0369-4f43-ba7a-bc85877fdf8b"
   },
   "outputs": [],
   "source": [
    "tsne_features.shape"
   ]
  },
  {
   "cell_type": "code",
   "execution_count": null,
   "metadata": {},
   "outputs": [],
   "source": [
    "# Plot the results\n",
    "plt.scatter(tsne_features[:,0], tsne_features[:,1])\n",
    "plt.show()"
   ]
  },
  {
   "cell_type": "code",
   "execution_count": null,
   "metadata": {},
   "outputs": [],
   "source": [
    "# Save Plot as Image\n",
    "plt.savefig('tsne_plot_image.jpeg')"
   ]
  },
  {
   "cell_type": "code",
   "execution_count": null,
   "metadata": {},
   "outputs": [],
   "source": [
    "plt.savefig('tsne_plot.png')"
   ]
  },
  {
   "cell_type": "code",
   "execution_count": null,
   "metadata": {
    "id": "2x9rXpos8rvT"
   },
   "outputs": [],
   "source": [
    "pca = PCA(n_components=10)"
   ]
  },
  {
   "cell_type": "code",
   "execution_count": null,
   "metadata": {
    "id": "sfpev0Xj84Ds"
   },
   "outputs": [],
   "source": [
    "df_pca = pca.fit_transform(nb_X_train_scaled)"
   ]
  },
  {
   "cell_type": "code",
   "execution_count": null,
   "metadata": {
    "colab": {
     "base_uri": "https://localhost:8080/",
     "height": 206
    },
    "id": "jSwxz4IC9AUB",
    "outputId": "5ad541d6-3a41-48a6-9bbc-c13ea4f7c58e"
   },
   "outputs": [],
   "source": [
    "df_pca = pd.DataFrame(\n",
    "    data=df_pca, columns=[\"pc 1\", \"pc 2\",\"pc 3\",\"pc 4\",\"pc 5\",\"pc 6\",\"pc 7\",\"pc 8\",\"pc 9\",\"pc 10\"])\n",
    "df_pca.head()"
   ]
  },
  {
   "cell_type": "code",
   "execution_count": null,
   "metadata": {
    "colab": {
     "base_uri": "https://localhost:8080/"
    },
    "id": "s0XrCDcI9Y-c",
    "outputId": "111f8d66-80dc-4ffa-a0e0-3547df6b3186"
   },
   "outputs": [],
   "source": [
    "pca.explained_variance_ratio_"
   ]
  },
  {
   "cell_type": "code",
   "execution_count": null,
   "metadata": {
    "id": "MtCA0vnI9cY3"
   },
   "outputs": [],
   "source": [
    "sum = 0\n",
    "\n",
    "for i in pca.explained_variance_ratio_:\n",
    "  sum += i"
   ]
  },
  {
   "cell_type": "code",
   "execution_count": null,
   "metadata": {
    "colab": {
     "base_uri": "https://localhost:8080/"
    },
    "id": "759Qoze--T5s",
    "outputId": "222ca48f-3bdc-4301-905d-796300b2e776"
   },
   "outputs": [],
   "source": [
    "print(sum)"
   ]
  },
  {
   "cell_type": "markdown",
   "metadata": {},
   "source": [
    "### Analysis\n",
    "According to the explained variance, the 10 component contains 96% of the information in the original dataset, and we will see whether increasing the number of principal components to 3 will increase the explained variance."
   ]
  },
  {
   "cell_type": "code",
   "execution_count": null,
   "metadata": {},
   "outputs": [],
   "source": [
    "from sklearn.cluster import KMeans"
   ]
  },
  {
   "cell_type": "code",
   "execution_count": null,
   "metadata": {},
   "outputs": [],
   "source": [
    "# Initialize PCA model for 3 principal components\n",
    "pca = PCA(n_components=3, random_state=5)\n",
    "\n",
    "# Get 3 principal components for the iris data.\n",
    "breast_pca = pca.fit_transform(df_pca)"
   ]
  },
  {
   "cell_type": "code",
   "execution_count": null,
   "metadata": {},
   "outputs": [],
   "source": [
    " # Transform PCA data to a DataFrame\n",
    "df_pca = pd.DataFrame(\n",
    "    data=breast_pca,\n",
    "    columns=[\"principal component 1\", \"principal component 2\", \"principal component 3\"],\n",
    ")\n",
    "df_pca.head()"
   ]
  },
  {
   "cell_type": "code",
   "execution_count": null,
   "metadata": {},
   "outputs": [],
   "source": [
    "# Initialzie the K-Means model\n",
    "model = KMeans(n_clusters=3, random_state=5)"
   ]
  },
  {
   "cell_type": "code",
   "execution_count": null,
   "metadata": {},
   "outputs": [],
   "source": [
    "# Fit the model\n",
    "model.fit(df_pca)"
   ]
  },
  {
   "cell_type": "code",
   "execution_count": null,
   "metadata": {},
   "outputs": [],
   "source": [
    "# Prediction Clusters\n",
    "predictions = model.predict(df_pca)\n",
    "print(predictions)"
   ]
  },
  {
   "cell_type": "code",
   "execution_count": null,
   "metadata": {},
   "outputs": [],
   "source": [
    "# Add the predicted class columns\n",
    "df_pca[\"class\"] = model.labels_\n",
    "df_pca.head()"
   ]
  },
  {
   "cell_type": "code",
   "execution_count": null,
   "metadata": {},
   "outputs": [],
   "source": [
    "# Fetch the explained variance\n",
    "pca.explained_variance_ratio_"
   ]
  },
  {
   "cell_type": "code",
   "execution_count": null,
   "metadata": {},
   "outputs": [],
   "source": [
    "# Plot the 3 principal components\n",
    "import plotly.express as px\n",
    "fig = px.scatter_3d(\n",
    "    df_pca,\n",
    "    x=\"principal component 3\",\n",
    "    y=\"principal component 2\",\n",
    "    z=\"principal component 1\",\n",
    "    color =\"class\",\n",
    "    symbol=\"class\",\n",
    "    width=800)\n",
    "fig.update_layout(legend=dict(x=0, y=1))\n",
    "fig.show()"
   ]
  },
  {
   "cell_type": "code",
   "execution_count": null,
   "metadata": {},
   "outputs": [],
   "source": [
    "# Save 3D as Image\n",
    "plt.savefig('three_d_principle_plot.png')"
   ]
  },
  {
   "cell_type": "code",
   "execution_count": null,
   "metadata": {},
   "outputs": [],
   "source": [
    "plt.scatter(x=df_pca[\"principal component 1\"], \n",
    "            y=df_pca[\"principal component 2\"],\n",
    "           c=df_pca[\"principal component 3\"])\n",
    "plt.xlabel(\"principal component 1\")\n",
    "plt.ylabel(\"principal component 2\")\n",
    "plt.show()"
   ]
  },
  {
   "cell_type": "code",
   "execution_count": null,
   "metadata": {},
   "outputs": [],
   "source": [
    "# Save Plot as Image\n",
    "plt.savefig('three_principle_plot_a.png')"
   ]
  },
  {
   "cell_type": "markdown",
   "metadata": {},
   "source": [
    "### Analysis With three principal components \n",
    "we have approximately 99% of the information in the original dataset."
   ]
  },
  {
   "cell_type": "code",
   "execution_count": null,
   "metadata": {},
   "outputs": [],
   "source": []
  },
  {
   "cell_type": "markdown",
   "metadata": {},
   "source": [
    "### Perform a Cluster Analysis with K-means\n",
    "Finding the best value for k using the Elbow Curve"
   ]
  },
  {
   "cell_type": "code",
   "execution_count": null,
   "metadata": {},
   "outputs": [],
   "source": [
    "inertia = []\n",
    "# Same as K = List(range(1, 11))\n",
    "k= [1, 2, 3, 4, 5, 6, 7, 8, 9, 10]"
   ]
  },
  {
   "cell_type": "code",
   "execution_count": null,
   "metadata": {},
   "outputs": [],
   "source": [
    "# Looking for the best k\n",
    "for i in k:\n",
    "    km = KMeans(n_clusters=i, random_state=0)\n",
    "    km.fit(df_pca)\n",
    "    inertia.append(km.inertia_)"
   ]
  },
  {
   "cell_type": "code",
   "execution_count": null,
   "metadata": {},
   "outputs": [],
   "source": [
    "# Defrine a DataFrame to plot the Elobow Curce using hvPlot\n",
    "elbow_data={\"k\":k, \"inertia\": inertia}\n",
    "df_elbow = pd.DataFrame(elbow_data)"
   ]
  },
  {
   "cell_type": "code",
   "execution_count": null,
   "metadata": {},
   "outputs": [],
   "source": [
    "plt.plot(df_elbow['k'], df_elbow['inertia'])\n",
    "plt.xticks(range(1,11))\n",
    "plt.xlabel('Number of clusters')\n",
    "plt.ylabel('Inertia')\n",
    "plt.show()"
   ]
  },
  {
   "cell_type": "code",
   "execution_count": null,
   "metadata": {},
   "outputs": [],
   "source": [
    "# Save Elbow Curve as Image\n",
    "plt.savefig('kmeans_elb_curve.png')"
   ]
  },
  {
   "cell_type": "code",
   "execution_count": null,
   "metadata": {},
   "outputs": [],
   "source": []
  },
  {
   "cell_type": "code",
   "execution_count": null,
   "metadata": {},
   "outputs": [],
   "source": []
  },
  {
   "cell_type": "code",
   "execution_count": null,
   "metadata": {},
   "outputs": [],
   "source": []
  }
 ],
 "metadata": {
  "colab": {
   "provenance": []
  },
  "kernelspec": {
   "display_name": "Python 3 (ipykernel)",
   "language": "python",
   "name": "python3"
  },
  "language_info": {
   "codemirror_mode": {
    "name": "ipython",
    "version": 3
   },
   "file_extension": ".py",
   "mimetype": "text/x-python",
   "name": "python",
   "nbconvert_exporter": "python",
   "pygments_lexer": "ipython3",
   "version": "3.8.13"
  }
 },
 "nbformat": 4,
 "nbformat_minor": 1
}
