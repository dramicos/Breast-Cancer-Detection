{
 "cells": [
  {
   "cell_type": "markdown",
   "metadata": {
    "id": "kHwMj3eMPDJf"
   },
   "source": [
    "# Breast Cancer Detection"
   ]
  },
  {
   "cell_type": "markdown",
   "metadata": {
    "id": "nrBh7iyQPDJi"
   },
   "source": [
    "## Preprocessing"
   ]
  },
  {
   "cell_type": "markdown",
   "metadata": {
    "id": "n9FGx1GVPDJi"
   },
   "source": [
    "* Number of instances: 569\n",
    "\n",
    "* Number of attributes: 32\n",
    "\n",
    "* Attribute information:\n",
    "   \n",
    "   1) ID number\n",
    "\n",
    "   2) Diagnosis (M = malignant, B = benign)\n",
    "3-32)\n",
    "\n",
    "\n",
    "Ten real-valued features are computed for each cell nucleus:\n",
    "\n",
    "  a) radius (mean of distances from center to points on the perimeter)\n",
    "\n",
    "  b) texture (standard deviation of gray-scale values)\n",
    "\n",
    "  c) perimeter\n",
    "\n",
    "  d) area\n",
    "\n",
    "  e) smoothness (local variation in radius lengths)\n",
    "\n",
    "  f) compactness (perimeter^2 / area - 1.0)\n",
    "\n",
    "  g) concavity (severity of concave portions of the contour)\n",
    "\n",
    "  h) concave points (number of concave portions of the contour)\n",
    "\n",
    "  i) symmetry\n",
    "\n",
    "  j) fractal dimension (\"coastline approximation\" - 1)\n",
    "\n",
    "\n",
    "* Missing attribute values: None"
   ]
  },
  {
   "cell_type": "code",
   "execution_count": null,
   "metadata": {
    "executionInfo": {
     "elapsed": 5558,
     "status": "ok",
     "timestamp": 1670105786064,
     "user": {
      "displayName": "dramicos",
      "userId": "18046899510137570362"
     },
     "user_tz": 360
    },
    "id": "nQIuzNluPDJj"
   },
   "outputs": [],
   "source": [
    "# Import our dependencies\n",
    "from sklearn.model_selection import train_test_split\n",
    "from sklearn.preprocessing import MinMaxScaler\n",
    "import numpy as np\n",
    "import tensorflow as tf\n",
    "import pandas as pd\n",
    "import matplotlib.pyplot as plt"
   ]
  },
  {
   "cell_type": "code",
   "execution_count": null,
   "metadata": {
    "colab": {
     "base_uri": "https://localhost:8080/",
     "height": 299
    },
    "executionInfo": {
     "elapsed": 182,
     "status": "ok",
     "timestamp": 1670105786238,
     "user": {
      "displayName": "dramicos",
      "userId": "18046899510137570362"
     },
     "user_tz": 360
    },
    "id": "KOJ1t061PDJk",
    "outputId": "0a834a45-6481-42fc-e18f-1b1197afd3bc"
   },
   "outputs": [],
   "source": [
    "#  Import and read the breast-cancer.data.csv.\n",
    "df = pd.read_csv(\"https://raw.githubusercontent.com/dramicos/Breast-Cancer-Detection/main/Resources/data.csv\")\n",
    "df.head()"
   ]
  },
  {
   "cell_type": "markdown",
   "metadata": {
    "id": "P3qPmleiPDJk"
   },
   "source": [
    "The key challenge against its detection is how to classify tumors into malignant (cancerous) or benign(non-cancerous). We complete the analysis of classifying these tumors using machine learning (with SVMs) and the Breast Cancer Wisconsin (Diagnostic) Dataset.\n",
    "Link: https://archive.ics.uci.edu/ml/datasets/breast+cancer+wisconsin+(diagnostic)"
   ]
  },
  {
   "cell_type": "code",
   "execution_count": null,
   "metadata": {
    "colab": {
     "base_uri": "https://localhost:8080/"
    },
    "executionInfo": {
     "elapsed": 137,
     "status": "ok",
     "timestamp": 1670105786371,
     "user": {
      "displayName": "dramicos",
      "userId": "18046899510137570362"
     },
     "user_tz": 360
    },
    "id": "d1IaSqvPPDJl",
    "outputId": "673a7a9e-7d32-4b4a-f1a2-09fdeccc77b8"
   },
   "outputs": [],
   "source": [
    "# Find null values\n",
    "for column in df.columns:\n",
    "    print(f\"Column {column} has {df[column].isnull().sum()} null values\")"
   ]
  },
  {
   "cell_type": "code",
   "execution_count": null,
   "metadata": {
    "colab": {
     "base_uri": "https://localhost:8080/"
    },
    "executionInfo": {
     "elapsed": 6,
     "status": "ok",
     "timestamp": 1670105786372,
     "user": {
      "displayName": "dramicos",
      "userId": "18046899510137570362"
     },
     "user_tz": 360
    },
    "id": "I3JwqEoUPDJl",
    "outputId": "bb128986-3735-4468-e116-1e6a1cd9b22c"
   },
   "outputs": [],
   "source": [
    "# Find duplicate entries\n",
    "print(f\"Duplicate entries: {df.duplicated().sum()}\")"
   ]
  },
  {
   "cell_type": "code",
   "execution_count": null,
   "metadata": {
    "colab": {
     "base_uri": "https://localhost:8080/"
    },
    "executionInfo": {
     "elapsed": 5,
     "status": "ok",
     "timestamp": 1670105786372,
     "user": {
      "displayName": "dramicos",
      "userId": "18046899510137570362"
     },
     "user_tz": 360
    },
    "id": "a6V61w5OPDJm",
    "outputId": "043ff5cd-2fc1-421c-fd2f-414bd4c8b0f6"
   },
   "outputs": [],
   "source": [
    "df.shape"
   ]
  },
  {
   "cell_type": "code",
   "execution_count": null,
   "metadata": {
    "colab": {
     "base_uri": "https://localhost:8080/",
     "height": 393
    },
    "executionInfo": {
     "elapsed": 346,
     "status": "ok",
     "timestamp": 1670105786716,
     "user": {
      "displayName": "dramicos",
      "userId": "18046899510137570362"
     },
     "user_tz": 360
    },
    "id": "lISQMT10PDJm",
    "outputId": "89a4d849-48b9-4a54-f773-ad599b8941c2"
   },
   "outputs": [],
   "source": [
    "df.describe()"
   ]
  },
  {
   "cell_type": "code",
   "execution_count": null,
   "metadata": {
    "colab": {
     "base_uri": "https://localhost:8080/",
     "height": 299
    },
    "executionInfo": {
     "elapsed": 128,
     "status": "ok",
     "timestamp": 1670105786841,
     "user": {
      "displayName": "dramicos",
      "userId": "18046899510137570362"
     },
     "user_tz": 360
    },
    "id": "9nxiSvaXPDJn",
    "outputId": "1fff9741-297c-4b1a-d19c-bdde84d18b73"
   },
   "outputs": [],
   "source": [
    "# Choose a cutoff value and create a list of diagnosis to be replaced\n",
    "# use the variable name `diagnosis_to_replace`\n",
    "\n",
    "# Transform diagnosis\n",
    "def diagnosis_to_replace(diagnosis):\n",
    "    if diagnosis == \"M\":\n",
    "        return 1\n",
    "    else:\n",
    "        return 0\n",
    "    \n",
    "\n",
    "df[\"diagnosis\"] = df[\"diagnosis\"].apply(diagnosis_to_replace)\n",
    "df.head()"
   ]
  },
  {
   "cell_type": "code",
   "execution_count": null,
   "metadata": {
    "executionInfo": {
     "elapsed": 1,
     "status": "ok",
     "timestamp": 1670105786841,
     "user": {
      "displayName": "dramicos",
      "userId": "18046899510137570362"
     },
     "user_tz": 360
    },
    "id": "7Lb2pEl7PDJn"
   },
   "outputs": [],
   "source": [
    "# Labels for the sections of our pie chart\n",
    "labels = [\"Malignant\", \"Benign\"]\n",
    "\n",
    "# The values of each section of the pie chart\n",
    "sizes = [212, 357]\n",
    "\n",
    "# The colors of each section of the pie chart\n",
    "colors = [\"lightcoral\", \"lightskyblue\"]\n",
    "\n",
    "# Tells matplotlib to separate the \"Benign\" section from the others\n",
    "explode = (0.1, 0)"
   ]
  },
  {
   "cell_type": "code",
   "execution_count": null,
   "metadata": {
    "colab": {
     "base_uri": "https://localhost:8080/",
     "height": 248
    },
    "executionInfo": {
     "elapsed": 620,
     "status": "ok",
     "timestamp": 1670105787460,
     "user": {
      "displayName": "dramicos",
      "userId": "18046899510137570362"
     },
     "user_tz": 360
    },
    "id": "tvr2PIMfPDJn",
    "outputId": "d6c343d9-2378-4699-e28c-0b1a3876b59e"
   },
   "outputs": [],
   "source": [
    "# Creates the pie chart based upon the values above\n",
    "# Automatically finds the percentages of each part of the pie chart\n",
    "plt.pie(sizes, explode=explode, labels=labels, colors=colors,\n",
    "        autopct=\"%1.1f%%\", shadow=True, startangle=140)\n",
    "\n",
    "# Save as Image\n",
    "plt.savefig('pie_malignant_vs_benign.png')\n",
    "\n",
    "plt.show()"
   ]
  },
  {
   "cell_type": "code",
   "execution_count": null,
   "metadata": {
    "colab": {
     "base_uri": "https://localhost:8080/",
     "height": 35
    },
    "executionInfo": {
     "elapsed": 4,
     "status": "ok",
     "timestamp": 1670105787461,
     "user": {
      "displayName": "dramicos",
      "userId": "18046899510137570362"
     },
     "user_tz": 360
    },
    "id": "kB3zlPJBPDJo",
    "outputId": "49f87c93-aa9f-4e13-a098-e325a586a017"
   },
   "outputs": [],
   "source": [
    "# Save as Image\n",
    "# plt.savefig('pie_malignant_vs_benign.png')"
   ]
  },
  {
   "cell_type": "code",
   "execution_count": null,
   "metadata": {
    "colab": {
     "base_uri": "https://localhost:8080/"
    },
    "executionInfo": {
     "elapsed": 283,
     "status": "ok",
     "timestamp": 1670105787741,
     "user": {
      "displayName": "dramicos",
      "userId": "18046899510137570362"
     },
     "user_tz": 360
    },
    "id": "IGQNcCE_PDJo",
    "outputId": "3b6a39cd-fca6-408b-8eab-4486892890a5"
   },
   "outputs": [],
   "source": [
    "# Split our preprocessed data into our features and target arrays also drop the id as that is not useful\n",
    "X = df.drop([\"diagnosis\", \"id\"], axis='columns')\n",
    "y = df[\"diagnosis\"]\n",
    "X.shape"
   ]
  },
  {
   "cell_type": "markdown",
   "metadata": {
    "id": "3omlgXcpPDJo"
   },
   "source": [
    "# Explore the dataset"
   ]
  },
  {
   "cell_type": "code",
   "execution_count": null,
   "metadata": {
    "colab": {
     "base_uri": "https://localhost:8080/",
     "height": 879
    },
    "executionInfo": {
     "elapsed": 9353,
     "status": "ok",
     "timestamp": 1670105797092,
     "user": {
      "displayName": "dramicos",
      "userId": "18046899510137570362"
     },
     "user_tz": 360
    },
    "id": "wTq6-kfPPDJo",
    "outputId": "5d96d31c-a448-46cf-9748-04dfa6dc0e89"
   },
   "outputs": [],
   "source": [
    "# A quick look at the features to see if the data is distributed normally or not\n",
    "X.hist(figsize=(15,15))\n",
    "\n",
    "# Save as Image\n",
    "plt.savefig('histogram.png')\n",
    "\n",
    "plt.show()"
   ]
  },
  {
   "cell_type": "markdown",
   "metadata": {
    "id": "PKBqKjsZPDJp"
   },
   "source": [
    "There is a significant number of features that have a strong right skew, so for some models the data will need to be transformed."
   ]
  },
  {
   "cell_type": "markdown",
   "metadata": {
    "id": "DiuO_JnyPDJp"
   },
   "source": [
    "## Now we choose to look at our data from an outcome point of view to see if we can get any insights."
   ]
  },
  {
   "cell_type": "code",
   "execution_count": null,
   "metadata": {
    "colab": {
     "base_uri": "https://localhost:8080/"
    },
    "executionInfo": {
     "elapsed": 8,
     "status": "ok",
     "timestamp": 1670105797093,
     "user": {
      "displayName": "dramicos",
      "userId": "18046899510137570362"
     },
     "user_tz": 360
    },
    "id": "auw5XuY2PDJp",
    "outputId": "5317bf3a-bcda-4e26-a23d-a94dfcff4ac3"
   },
   "outputs": [],
   "source": [
    "benign = df.loc[df['diagnosis']==0]\n",
    "benign.drop(columns=['id','diagnosis'], inplace=True)"
   ]
  },
  {
   "cell_type": "code",
   "execution_count": null,
   "metadata": {
    "colab": {
     "base_uri": "https://localhost:8080/",
     "height": 487
    },
    "executionInfo": {
     "elapsed": 354,
     "status": "ok",
     "timestamp": 1670105797444,
     "user": {
      "displayName": "dramicos",
      "userId": "18046899510137570362"
     },
     "user_tz": 360
    },
    "id": "MunxmATHPDJp",
    "outputId": "dc235295-fb5e-41b1-9bc8-9d5957c41e19"
   },
   "outputs": [],
   "source": [
    "benign"
   ]
  },
  {
   "cell_type": "code",
   "execution_count": null,
   "metadata": {
    "colab": {
     "base_uri": "https://localhost:8080/"
    },
    "executionInfo": {
     "elapsed": 7,
     "status": "ok",
     "timestamp": 1670105797445,
     "user": {
      "displayName": "dramicos",
      "userId": "18046899510137570362"
     },
     "user_tz": 360
    },
    "id": "E5xtgk2jPDJp",
    "outputId": "dcb1e282-2a54-43af-a001-265aa54f3e14"
   },
   "outputs": [],
   "source": [
    "malign = df.loc[df['diagnosis']==1]\n",
    "malign.drop(columns=['id','diagnosis'], inplace=True)"
   ]
  },
  {
   "cell_type": "code",
   "execution_count": null,
   "metadata": {
    "colab": {
     "base_uri": "https://localhost:8080/",
     "height": 487
    },
    "executionInfo": {
     "elapsed": 5,
     "status": "ok",
     "timestamp": 1670105797445,
     "user": {
      "displayName": "dramicos",
      "userId": "18046899510137570362"
     },
     "user_tz": 360
    },
    "id": "ep-fXUDlPDJq",
    "outputId": "f8a7dd05-2c67-4f34-ffe9-dd698dc38914"
   },
   "outputs": [],
   "source": [
    "malign"
   ]
  },
  {
   "cell_type": "code",
   "execution_count": null,
   "metadata": {
    "colab": {
     "base_uri": "https://localhost:8080/",
     "height": 265
    },
    "executionInfo": {
     "elapsed": 434,
     "status": "ok",
     "timestamp": 1670105797875,
     "user": {
      "displayName": "dramicos",
      "userId": "18046899510137570362"
     },
     "user_tz": 360
    },
    "id": "XcqYAzenPDJq",
    "outputId": "de9f6d1e-c941-4c5a-8b77-26853bc107a4",
    "scrolled": true
   },
   "outputs": [],
   "source": [
    "# have a look at how the malign data looks compared to the benign in all categories\n",
    "plt.hist(benign['radius_mean'], alpha=.5, label='B')\n",
    "plt.hist(malign['radius_mean'], alpha=.5, label='M')\n",
    "plt.legend(loc='upper right', title = \"Radius_mean\")\n",
    "\n",
    "# Save as Image\n",
    "plt.savefig('histogram_radius_mean.png')\n",
    "\n",
    "plt.show()"
   ]
  },
  {
   "cell_type": "code",
   "execution_count": null,
   "metadata": {
    "colab": {
     "base_uri": "https://localhost:8080/",
     "height": 265
    },
    "executionInfo": {
     "elapsed": 361,
     "status": "ok",
     "timestamp": 1670105798380,
     "user": {
      "displayName": "dramicos",
      "userId": "18046899510137570362"
     },
     "user_tz": 360
    },
    "id": "inB1mKfnPDJq",
    "outputId": "bce05fe6-0696-4f35-b8de-58ed752ea5b9"
   },
   "outputs": [],
   "source": [
    "plt.hist(benign['texture_mean'], alpha=.5, label='B')\n",
    "plt.hist(malign['texture_mean'], alpha=.5, label='M')\n",
    "plt.legend(loc='upper right', title = \"Texture_mean\")\n",
    "\n",
    "# Save as Image\n",
    "plt.savefig('histogram_texture_mean.png')\n",
    "\n",
    "plt.show()"
   ]
  },
  {
   "cell_type": "code",
   "execution_count": null,
   "metadata": {
    "colab": {
     "base_uri": "https://localhost:8080/",
     "height": 265
    },
    "executionInfo": {
     "elapsed": 559,
     "status": "ok",
     "timestamp": 1670105798937,
     "user": {
      "displayName": "dramicos",
      "userId": "18046899510137570362"
     },
     "user_tz": 360
    },
    "id": "f94yihGHPDJq",
    "outputId": "af98fd75-97df-4399-ae6d-d0d5c430fdfd"
   },
   "outputs": [],
   "source": [
    "plt.hist(benign['perimeter_mean'], alpha=.5, label='B')\n",
    "plt.hist(malign['perimeter_mean'], alpha=.5, label='M')\n",
    "plt.legend(loc='upper right', title = \"Perimeter_mean\")\n",
    "\n",
    "# Save as Image\n",
    "plt.savefig('histogram_perimeter_mean.png')\n",
    "\n",
    "plt.show()"
   ]
  },
  {
   "cell_type": "code",
   "execution_count": null,
   "metadata": {
    "colab": {
     "base_uri": "https://localhost:8080/",
     "height": 265
    },
    "executionInfo": {
     "elapsed": 337,
     "status": "ok",
     "timestamp": 1670105799495,
     "user": {
      "displayName": "dramicos",
      "userId": "18046899510137570362"
     },
     "user_tz": 360
    },
    "id": "7sSu2bPaPDJr",
    "outputId": "79f037ee-530d-4003-91ff-05073b57099f"
   },
   "outputs": [],
   "source": [
    "plt.hist(benign['area_mean'], alpha=.5, label='B')\n",
    "plt.hist(malign['area_mean'], alpha=.5, label='M')\n",
    "plt.legend(loc='upper right', title = \"Area_mean\")\n",
    "\n",
    "# Save as Image\n",
    "plt.savefig('histogram_area_mean.png')\n",
    "\n",
    "plt.show()"
   ]
  },
  {
   "cell_type": "code",
   "execution_count": null,
   "metadata": {
    "colab": {
     "base_uri": "https://localhost:8080/",
     "height": 265
    },
    "executionInfo": {
     "elapsed": 554,
     "status": "ok",
     "timestamp": 1670105800047,
     "user": {
      "displayName": "dramicos",
      "userId": "18046899510137570362"
     },
     "user_tz": 360
    },
    "id": "HYCfT9QxPDJr",
    "outputId": "427255d0-c3ae-4bf3-b894-c30df6ce6164"
   },
   "outputs": [],
   "source": [
    "plt.hist(benign['smoothness_mean'], alpha=.5, label='B')\n",
    "plt.hist(malign['smoothness_mean'], alpha=.5, label='M')\n",
    "plt.legend(loc='upper right', title = \"Smoothness_mean\")\n",
    "\n",
    "# Save as Image\n",
    "plt.savefig('histogram__smoothness_mean.png')\n",
    "\n",
    "plt.show()"
   ]
  },
  {
   "cell_type": "code",
   "execution_count": null,
   "metadata": {
    "colab": {
     "base_uri": "https://localhost:8080/",
     "height": 265
    },
    "executionInfo": {
     "elapsed": 675,
     "status": "ok",
     "timestamp": 1670105800720,
     "user": {
      "displayName": "dramicos",
      "userId": "18046899510137570362"
     },
     "user_tz": 360
    },
    "id": "F_pWqUT9PDJr",
    "outputId": "c7b34559-3c30-49ec-e11c-465accf7d63f"
   },
   "outputs": [],
   "source": [
    "plt.hist(benign['compactness_mean'], alpha=.5, label='B')\n",
    "plt.hist(malign['compactness_mean'], alpha=.5, label='M')\n",
    "plt.legend(loc='upper right', title = \"Compactness_mean\")\n",
    "\n",
    "# Save as Image\n",
    "plt.savefig('histogram_Compactness_mean.png')\n",
    "\n",
    "plt.show()"
   ]
  },
  {
   "cell_type": "code",
   "execution_count": null,
   "metadata": {
    "colab": {
     "base_uri": "https://localhost:8080/",
     "height": 265
    },
    "executionInfo": {
     "elapsed": 487,
     "status": "ok",
     "timestamp": 1670105801205,
     "user": {
      "displayName": "dramicos",
      "userId": "18046899510137570362"
     },
     "user_tz": 360
    },
    "id": "jANvby9oPDJr",
    "outputId": "1b92a4a5-a1f5-466f-fa60-cd8a17dd6e66"
   },
   "outputs": [],
   "source": [
    "plt.hist(benign['concavity_mean'], alpha=.5, label='B')\n",
    "plt.hist(malign['concavity_mean'], alpha=.5, label='M')\n",
    "plt.legend(loc='upper right', title = \"Concavity_mean\")\n",
    "\n",
    "# Save as Image\n",
    "plt.savefig('histogram_compactness_mean.png')\n",
    "\n",
    "plt.show()"
   ]
  },
  {
   "cell_type": "code",
   "execution_count": null,
   "metadata": {
    "colab": {
     "base_uri": "https://localhost:8080/",
     "height": 265
    },
    "executionInfo": {
     "elapsed": 367,
     "status": "ok",
     "timestamp": 1670105801777,
     "user": {
      "displayName": "dramicos",
      "userId": "18046899510137570362"
     },
     "user_tz": 360
    },
    "id": "VbenzuZ3PDJs",
    "outputId": "a37841f2-4718-4769-8aec-0dfc15ad62d9"
   },
   "outputs": [],
   "source": [
    "plt.hist(benign['concave_points_mean'], alpha=.5, label='B')\n",
    "plt.hist(malign['concave_points_mean'], alpha=.5, label='M')\n",
    "plt.legend(loc='upper right', title = \"Concave_points_mean\")\n",
    "\n",
    "# Save as Image\n",
    "plt.savefig('histogram_concave_points_mean.png')\n",
    "\n",
    "plt.show()"
   ]
  },
  {
   "cell_type": "code",
   "execution_count": null,
   "metadata": {
    "colab": {
     "base_uri": "https://localhost:8080/",
     "height": 265
    },
    "executionInfo": {
     "elapsed": 458,
     "status": "ok",
     "timestamp": 1670105802233,
     "user": {
      "displayName": "dramicos",
      "userId": "18046899510137570362"
     },
     "user_tz": 360
    },
    "id": "6N62M_T9PDJs",
    "outputId": "8cdd22e7-758c-46b7-d0ec-28c22b2f13ef"
   },
   "outputs": [],
   "source": [
    "plt.hist(benign['symmetry_mean'], alpha=.5, label='B')\n",
    "plt.hist(malign['symmetry_mean'], alpha=.5, label='M')\n",
    "plt.legend(loc='upper right', title = \"Symmetry_mean\")\n",
    "\n",
    "# Save as Image\n",
    "plt.savefig('histogram_symmetry_mean.png')\n",
    "\n",
    "plt.show()"
   ]
  },
  {
   "cell_type": "code",
   "execution_count": null,
   "metadata": {
    "colab": {
     "base_uri": "https://localhost:8080/",
     "height": 265
    },
    "executionInfo": {
     "elapsed": 588,
     "status": "ok",
     "timestamp": 1670105802819,
     "user": {
      "displayName": "dramicos",
      "userId": "18046899510137570362"
     },
     "user_tz": 360
    },
    "id": "b8eQc-XoPDJs",
    "outputId": "807bc72f-dcea-4ca9-bb26-953ac4d52515"
   },
   "outputs": [],
   "source": [
    "plt.hist(benign['fractal_dimension_mean'], alpha=.5, label='B')\n",
    "plt.hist(malign['fractal_dimension_mean'], alpha=.5, label='M')\n",
    "plt.legend(loc='upper right', title = \"Fractal_dimension_mean\")\n",
    "\n",
    "# Save as Image\n",
    "plt.savefig('histogram_fractal_dimension_mean.png')\n",
    "\n",
    "plt.show()"
   ]
  },
  {
   "cell_type": "code",
   "execution_count": null,
   "metadata": {
    "colab": {
     "base_uri": "https://localhost:8080/",
     "height": 265
    },
    "executionInfo": {
     "elapsed": 502,
     "status": "ok",
     "timestamp": 1670105803500,
     "user": {
      "displayName": "dramicos",
      "userId": "18046899510137570362"
     },
     "user_tz": 360
    },
    "id": "9l_evhhBPDJs",
    "outputId": "94280107-cf76-44e1-ff46-01d7847b67f4"
   },
   "outputs": [],
   "source": [
    "plt.hist(benign['radius_se'], alpha=.5, label='B')\n",
    "plt.hist(malign['radius_se'], alpha=.5, label='M')\n",
    "plt.legend(loc='upper right', title = \"Radius_se\")\n",
    "\n",
    "# Save as Image\n",
    "plt.savefig('histogram_radius_se.png')\n",
    "\n",
    "plt.show()"
   ]
  },
  {
   "cell_type": "code",
   "execution_count": null,
   "metadata": {
    "colab": {
     "base_uri": "https://localhost:8080/",
     "height": 265
    },
    "executionInfo": {
     "elapsed": 601,
     "status": "ok",
     "timestamp": 1670105804099,
     "user": {
      "displayName": "dramicos",
      "userId": "18046899510137570362"
     },
     "user_tz": 360
    },
    "id": "Zxu62uWuPDJt",
    "outputId": "a9d9d179-84a8-4207-f789-934f9ec2bf70"
   },
   "outputs": [],
   "source": [
    "plt.hist(benign['texture_se'], alpha=.5, label='B')\n",
    "plt.hist(malign['texture_se'], alpha=.5, label='M')\n",
    "plt.legend(loc='upper right', title = \"Texture_se\")\n",
    "\n",
    "# Save as Image\n",
    "plt.savefig('histogram_texture_se.png')\n",
    "\n",
    "plt.show()"
   ]
  },
  {
   "cell_type": "code",
   "execution_count": null,
   "metadata": {
    "colab": {
     "base_uri": "https://localhost:8080/",
     "height": 265
    },
    "executionInfo": {
     "elapsed": 1031,
     "status": "ok",
     "timestamp": 1670105805128,
     "user": {
      "displayName": "dramicos",
      "userId": "18046899510137570362"
     },
     "user_tz": 360
    },
    "id": "NmxU11myPDJt",
    "outputId": "90ecd568-cc31-4804-bef9-e645fd2be7c3"
   },
   "outputs": [],
   "source": [
    "plt.hist(benign['perimeter_se'], alpha=.5, label='B')\n",
    "plt.hist(malign['perimeter_se'], alpha=.5, label='M')\n",
    "plt.legend(loc='upper right', title = \"Perimeter_se\")\n",
    "\n",
    "# Save as Image\n",
    "plt.savefig('histogram_perimeter_se.png')\n",
    "\n",
    "plt.show()"
   ]
  },
  {
   "cell_type": "code",
   "execution_count": null,
   "metadata": {
    "colab": {
     "base_uri": "https://localhost:8080/",
     "height": 265
    },
    "executionInfo": {
     "elapsed": 488,
     "status": "ok",
     "timestamp": 1670105805842,
     "user": {
      "displayName": "dramicos",
      "userId": "18046899510137570362"
     },
     "user_tz": 360
    },
    "id": "KTWEx_eqPDJt",
    "outputId": "1545f8ce-0448-48b1-a9a4-6922dad80c22"
   },
   "outputs": [],
   "source": [
    "plt.hist(benign['area_se'], alpha=.5, label='B')\n",
    "plt.hist(malign['area_se'], alpha=.5, label='M')\n",
    "plt.legend(loc='upper right', title = \"Area_se\")\n",
    "\n",
    "# Save as Image\n",
    "plt.savefig('histogram_area_se.png')\n",
    "\n",
    "plt.show()"
   ]
  },
  {
   "cell_type": "code",
   "execution_count": null,
   "metadata": {
    "colab": {
     "base_uri": "https://localhost:8080/",
     "height": 265
    },
    "executionInfo": {
     "elapsed": 512,
     "status": "ok",
     "timestamp": 1670105806352,
     "user": {
      "displayName": "dramicos",
      "userId": "18046899510137570362"
     },
     "user_tz": 360
    },
    "id": "YRXacKj-PDJt",
    "outputId": "5f3912c5-151a-434c-cbde-72fc9bd23421"
   },
   "outputs": [],
   "source": [
    "plt.hist(benign['smoothness_se'], alpha=.5, label='B')\n",
    "plt.hist(malign['smoothness_se'], alpha=.5, label='M')\n",
    "plt.legend(loc='upper right', title = \"Smoothness_se\")\n",
    "\n",
    "# Save as Image\n",
    "plt.savefig('histogram_smoothness_se.png')\n",
    "\n",
    "plt.show()"
   ]
  },
  {
   "cell_type": "code",
   "execution_count": null,
   "metadata": {
    "colab": {
     "base_uri": "https://localhost:8080/",
     "height": 268
    },
    "executionInfo": {
     "elapsed": 524,
     "status": "ok",
     "timestamp": 1670105806874,
     "user": {
      "displayName": "dramicos",
      "userId": "18046899510137570362"
     },
     "user_tz": 360
    },
    "id": "zp6jCAncPDJu",
    "outputId": "8828aedd-a940-4b97-d321-59de191a5a97"
   },
   "outputs": [],
   "source": [
    "plt.hist(benign['compactness_se'], alpha=.5, label='B')\n",
    "plt.hist(malign['compactness_se'], alpha=.5, label='M')\n",
    "plt.legend(loc='upper right', title = \"Compactness_se\")\n",
    "\n",
    "# Save as Image\n",
    "plt.savefig('histogram_compactness_se.png')\n",
    "\n",
    "plt.show()"
   ]
  },
  {
   "cell_type": "code",
   "execution_count": null,
   "metadata": {
    "colab": {
     "base_uri": "https://localhost:8080/",
     "height": 265
    },
    "executionInfo": {
     "elapsed": 523,
     "status": "ok",
     "timestamp": 1670105807395,
     "user": {
      "displayName": "dramicos",
      "userId": "18046899510137570362"
     },
     "user_tz": 360
    },
    "id": "Zcx7e91uPDJu",
    "outputId": "4110a20f-e401-4ff2-bf39-db6ca8490b2b"
   },
   "outputs": [],
   "source": [
    "plt.hist(benign['concavity_se'], alpha=.5, label='B')\n",
    "plt.hist(malign['concavity_se'], alpha=.5, label='M')\n",
    "plt.legend(loc='upper right', title = \"Concavity_se\")\n",
    "\n",
    "# Save as Image\n",
    "plt.savefig('histogram_concavity_se.png')\n",
    "\n",
    "plt.show()"
   ]
  },
  {
   "cell_type": "code",
   "execution_count": null,
   "metadata": {
    "colab": {
     "base_uri": "https://localhost:8080/",
     "height": 265
    },
    "executionInfo": {
     "elapsed": 615,
     "status": "ok",
     "timestamp": 1670105808008,
     "user": {
      "displayName": "dramicos",
      "userId": "18046899510137570362"
     },
     "user_tz": 360
    },
    "id": "VkJtgRhEPDJu",
    "outputId": "ce8837db-d9a6-483d-b49d-8cd95fd78241"
   },
   "outputs": [],
   "source": [
    "plt.hist(benign['concave_points_se'], alpha=.5, label='B')\n",
    "plt.hist(malign['concave_points_se'], alpha=.5, label='M')\n",
    "plt.legend(loc='upper right', title = \"Concave_points_se\")\n",
    "\n",
    "# Save as Image\n",
    "plt.savefig('histogram_concave_points_se.png')\n",
    "\n",
    "plt.show()"
   ]
  },
  {
   "cell_type": "code",
   "execution_count": null,
   "metadata": {
    "colab": {
     "base_uri": "https://localhost:8080/",
     "height": 265
    },
    "executionInfo": {
     "elapsed": 454,
     "status": "ok",
     "timestamp": 1670105808610,
     "user": {
      "displayName": "dramicos",
      "userId": "18046899510137570362"
     },
     "user_tz": 360
    },
    "id": "dSqVhBW0PDJu",
    "outputId": "6e13a3e2-445a-4d66-fb66-5ab0e762ab1a"
   },
   "outputs": [],
   "source": [
    "plt.hist(benign['symmetry_se'], alpha=.5, label='B')\n",
    "plt.hist(malign['symmetry_se'], alpha=.5, label='M')\n",
    "plt.legend(loc='upper right', title = \"Symmetry_se\")\n",
    "\n",
    "# Save as Image\n",
    "plt.savefig('histogram_symmetry_se.png')\n",
    "\n",
    "plt.show()"
   ]
  },
  {
   "cell_type": "code",
   "execution_count": null,
   "metadata": {
    "colab": {
     "base_uri": "https://localhost:8080/",
     "height": 265
    },
    "executionInfo": {
     "elapsed": 497,
     "status": "ok",
     "timestamp": 1670105809105,
     "user": {
      "displayName": "dramicos",
      "userId": "18046899510137570362"
     },
     "user_tz": 360
    },
    "id": "h9MN8kP-PDJv",
    "outputId": "d033212c-6e5e-4597-fe57-a366f49067e3"
   },
   "outputs": [],
   "source": [
    "plt.hist(benign['fractal_dimension_se'], alpha=.5, label='B')\n",
    "plt.hist(malign['fractal_dimension_se'], alpha=.5, label='M')\n",
    "plt.legend(loc='upper right', title = \"Fractal_dimension_se\")\n",
    "\n",
    "# Save as Image\n",
    "plt.savefig('histogram_fractal_dimension_se.png')\n",
    "\n",
    "plt.show()"
   ]
  },
  {
   "cell_type": "code",
   "execution_count": null,
   "metadata": {
    "colab": {
     "base_uri": "https://localhost:8080/",
     "height": 265
    },
    "executionInfo": {
     "elapsed": 405,
     "status": "ok",
     "timestamp": 1670105809508,
     "user": {
      "displayName": "dramicos",
      "userId": "18046899510137570362"
     },
     "user_tz": 360
    },
    "id": "heEcdhxXPDJv",
    "outputId": "61fe2a5a-f4a8-41c0-a877-804fb4fafcdd"
   },
   "outputs": [],
   "source": [
    "plt.hist(benign['radius_worst'], alpha=.5, label='B')\n",
    "plt.hist(malign['radius_worst'], alpha=.5, label='M')\n",
    "plt.legend(loc='upper right', title = \"Radius_worst\")\n",
    "\n",
    "# Save as Image\n",
    "plt.savefig('histogram_radius_worst.png')\n",
    "\n",
    "plt.show()"
   ]
  },
  {
   "cell_type": "code",
   "execution_count": null,
   "metadata": {
    "colab": {
     "base_uri": "https://localhost:8080/",
     "height": 265
    },
    "executionInfo": {
     "elapsed": 463,
     "status": "ok",
     "timestamp": 1670105809969,
     "user": {
      "displayName": "dramicos",
      "userId": "18046899510137570362"
     },
     "user_tz": 360
    },
    "id": "yAANpKViPDJv",
    "outputId": "5a42953e-69a9-4a8f-9486-3bdf4b0b6cb2"
   },
   "outputs": [],
   "source": [
    "plt.hist(benign['texture_worst'], alpha=.5, label='B')\n",
    "plt.hist(malign['texture_worst'], alpha=.5, label='M')\n",
    "plt.legend(loc='upper right', title = \"Texture_worst\")\n",
    "\n",
    "# Save as Image\n",
    "plt.savefig('histogram_texture_worst.png')\n",
    "\n",
    "plt.show()"
   ]
  },
  {
   "cell_type": "code",
   "execution_count": null,
   "metadata": {
    "colab": {
     "base_uri": "https://localhost:8080/",
     "height": 265
    },
    "executionInfo": {
     "elapsed": 961,
     "status": "ok",
     "timestamp": 1670105810928,
     "user": {
      "displayName": "dramicos",
      "userId": "18046899510137570362"
     },
     "user_tz": 360
    },
    "id": "4LmgkGM3PDJv",
    "outputId": "613fc2fc-a195-405a-f55c-9dbc02520d2e"
   },
   "outputs": [],
   "source": [
    "plt.hist(benign['perimeter_worst'], alpha=.5, label='B')\n",
    "plt.hist(malign['perimeter_worst'], alpha=.5, label='M')\n",
    "plt.legend(loc='upper right', title = \"Perimeter_worst\")\n",
    "\n",
    "# Save as Image\n",
    "plt.savefig('histogram_perimeter_worst.png')\n",
    "\n",
    "plt.show()"
   ]
  },
  {
   "cell_type": "code",
   "execution_count": null,
   "metadata": {
    "colab": {
     "base_uri": "https://localhost:8080/",
     "height": 265
    },
    "executionInfo": {
     "elapsed": 484,
     "status": "ok",
     "timestamp": 1670105811410,
     "user": {
      "displayName": "dramicos",
      "userId": "18046899510137570362"
     },
     "user_tz": 360
    },
    "id": "BFc2DpBbPDJw",
    "outputId": "1374ff72-4aa1-44bc-951a-126bf55c0d9a"
   },
   "outputs": [],
   "source": [
    "plt.hist(benign['area_worst'], alpha=.5, label='B')\n",
    "plt.hist(malign['area_worst'], alpha=.5, label='M')\n",
    "plt.legend(loc='upper right', title = \"Area_worst\")\n",
    "\n",
    "# Save as Image\n",
    "plt.savefig('histogram_area_worst.png')\n",
    "\n",
    "plt.show()"
   ]
  },
  {
   "cell_type": "code",
   "execution_count": null,
   "metadata": {
    "colab": {
     "base_uri": "https://localhost:8080/",
     "height": 265
    },
    "executionInfo": {
     "elapsed": 575,
     "status": "ok",
     "timestamp": 1670105811983,
     "user": {
      "displayName": "dramicos",
      "userId": "18046899510137570362"
     },
     "user_tz": 360
    },
    "id": "5rSw8hqTPDJw",
    "outputId": "d09a2c94-6584-4046-8874-1d82dced0e8f"
   },
   "outputs": [],
   "source": [
    "plt.hist(benign['smoothness_worst'], alpha=.5, label='B')\n",
    "plt.hist(malign['smoothness_worst'], alpha=.5, label='M')\n",
    "plt.legend(loc='upper right', title = \"Smoothness_worst\")\n",
    "\n",
    "# Save as Image\n",
    "plt.savefig('histogram_smoothness_worst.png')\n",
    "\n",
    "plt.show()"
   ]
  },
  {
   "cell_type": "code",
   "execution_count": null,
   "metadata": {
    "colab": {
     "base_uri": "https://localhost:8080/",
     "height": 265
    },
    "executionInfo": {
     "elapsed": 444,
     "status": "ok",
     "timestamp": 1670105812425,
     "user": {
      "displayName": "dramicos",
      "userId": "18046899510137570362"
     },
     "user_tz": 360
    },
    "id": "Kr9iHcEBPDJw",
    "outputId": "8b5c2880-340a-47d3-fdb5-edd7aa932051"
   },
   "outputs": [],
   "source": [
    "plt.hist(benign['compactness_worst'], alpha=.5, label='B')\n",
    "plt.hist(malign['compactness_worst'], alpha=.5, label='M')\n",
    "plt.legend(loc='upper right', title = \"Compactness_worst\")\n",
    "\n",
    "# Save as Image\n",
    "plt.savefig('histogram_compactness_worst.png')\n",
    "\n",
    "plt.show()"
   ]
  },
  {
   "cell_type": "code",
   "execution_count": null,
   "metadata": {
    "colab": {
     "base_uri": "https://localhost:8080/",
     "height": 267
    },
    "executionInfo": {
     "elapsed": 475,
     "status": "ok",
     "timestamp": 1670105812898,
     "user": {
      "displayName": "dramicos",
      "userId": "18046899510137570362"
     },
     "user_tz": 360
    },
    "id": "gTGyBAYkPDJw",
    "outputId": "6636f76a-dea0-4318-d912-a0c22bbcecdf"
   },
   "outputs": [],
   "source": [
    "plt.hist(benign['concavity_worst'], alpha=.5, label='B')\n",
    "plt.hist(malign['concavity_worst'], alpha=.5, label='M')\n",
    "plt.legend(loc='upper right', title = \"Concavity_worst\")\n",
    "\n",
    "# Save as Image\n",
    "plt.savefig('histogram_concavity_worst.png')\n",
    "\n",
    "plt.show()"
   ]
  },
  {
   "cell_type": "code",
   "execution_count": null,
   "metadata": {
    "colab": {
     "base_uri": "https://localhost:8080/",
     "height": 265
    },
    "executionInfo": {
     "elapsed": 451,
     "status": "ok",
     "timestamp": 1670105813347,
     "user": {
      "displayName": "dramicos",
      "userId": "18046899510137570362"
     },
     "user_tz": 360
    },
    "id": "ZGCNmgxBPDJw",
    "outputId": "60088c6b-36b3-4287-f3b0-0b29f3b67c63"
   },
   "outputs": [],
   "source": [
    "plt.hist(benign['concave_points_worst'], alpha=.5, label='B')\n",
    "plt.hist(malign['concave_points_worst'], alpha=.5, label='M')\n",
    "plt.legend(loc='upper right', title = \"Concave_points_worst\")\n",
    "\n",
    "# Save as Image\n",
    "plt.savefig('histogram_concave_points_worst.png')\n",
    "\n",
    "plt.show()"
   ]
  },
  {
   "cell_type": "code",
   "execution_count": null,
   "metadata": {
    "colab": {
     "base_uri": "https://localhost:8080/",
     "height": 265
    },
    "executionInfo": {
     "elapsed": 618,
     "status": "ok",
     "timestamp": 1670105813963,
     "user": {
      "displayName": "dramicos",
      "userId": "18046899510137570362"
     },
     "user_tz": 360
    },
    "id": "O9QkTQsJPDJx",
    "outputId": "bc7f0b4f-9894-4033-9d52-9152b2783034"
   },
   "outputs": [],
   "source": [
    "plt.hist(benign['symmetry_worst'], alpha=.5, label='B')\n",
    "plt.hist(malign['symmetry_worst'], alpha=.5, label='M')\n",
    "plt.legend(loc='upper right', title = \"Symmetry_worst\")\n",
    "\n",
    "# Save as Image\n",
    "plt.savefig('histogram_symmetry_worst.png')\n",
    "\n",
    "plt.show()"
   ]
  },
  {
   "cell_type": "code",
   "execution_count": null,
   "metadata": {
    "colab": {
     "base_uri": "https://localhost:8080/",
     "height": 268
    },
    "executionInfo": {
     "elapsed": 284,
     "status": "ok",
     "timestamp": 1670105814245,
     "user": {
      "displayName": "dramicos",
      "userId": "18046899510137570362"
     },
     "user_tz": 360
    },
    "id": "_W79j80JPDJx",
    "outputId": "f5767f31-9d82-4b1e-f042-d53881ff8fc1"
   },
   "outputs": [],
   "source": [
    "plt.hist(benign['fractal_dimension_worst'], alpha=.5, label='B')\n",
    "plt.hist(malign['fractal_dimension_worst'], alpha=.5, label='M')\n",
    "plt.legend(loc='upper right', title = \"Fractal_dimension_worst\")\n",
    "\n",
    "# Save as Image\n",
    "plt.savefig('histogram_fractal_dimension_worst.png')\n",
    "\n",
    "plt.show()"
   ]
  },
  {
   "cell_type": "code",
   "execution_count": null,
   "metadata": {
    "executionInfo": {
     "elapsed": 10,
     "status": "ok",
     "timestamp": 1670105814384,
     "user": {
      "displayName": "dramicos",
      "userId": "18046899510137570362"
     },
     "user_tz": 360
    },
    "id": "qcG4IpyNPDJx"
   },
   "outputs": [],
   "source": [
    "# We can come back to this when we want to tweak the features for improvements"
   ]
  },
  {
   "cell_type": "code",
   "execution_count": null,
   "metadata": {
    "colab": {
     "base_uri": "https://localhost:8080/"
    },
    "executionInfo": {
     "elapsed": 10,
     "status": "ok",
     "timestamp": 1670105814384,
     "user": {
      "displayName": "dramicos",
      "userId": "18046899510137570362"
     },
     "user_tz": 360
    },
    "id": "psilCscgPDJx",
    "outputId": "e92f0ccb-6cd5-4856-9341-f883411eb902"
   },
   "outputs": [],
   "source": [
    "# check for any negative values in df\n",
    "(df < 0).values.any()"
   ]
  },
  {
   "cell_type": "markdown",
   "metadata": {
    "id": "4IPYFpQXPDJx"
   },
   "source": [
    "### Since the label classes are not balanced the model will have a slight bias towards detecting benign results. This can be corrected by randomly removing some of the benign results so the numbers are equal. This should help reduce the number of false negatives. The only drawback is that the more rows we remove, the less overall training the model get and thus possibly worse performance."
   ]
  },
  {
   "cell_type": "markdown",
   "metadata": {
    "id": "cFhdXcxMPDJx"
   },
   "source": [
    "## Note:  Every time the next cell is run we will get different performance based on the randomness of the data that gets removed"
   ]
  },
  {
   "cell_type": "code",
   "execution_count": null,
   "metadata": {
    "executionInfo": {
     "elapsed": 4,
     "status": "ok",
     "timestamp": 1670105814384,
     "user": {
      "displayName": "dramicos",
      "userId": "18046899510137570362"
     },
     "user_tz": 360
    },
    "id": "DWqa6P7KPDJy"
   },
   "outputs": [],
   "source": [
    "# We want to create smaller datasets with a different bias\n",
    "\n",
    "# balanced classes for no training bias\n",
    "balanced_df = df.drop(   df.loc[df['diagnosis'] == 0].sample(n=(benign.shape[0] - malign.shape[0])).index ).reset_index(drop=True)\n",
    "\n",
    "# slight bias towards malign\n",
    "bias = 50\n",
    "nb_df = df.drop(   df.loc[df['diagnosis'] == 0].sample(n=(benign.shape[0] - malign.shape[0] + bias)).index ).reset_index(drop=True)"
   ]
  },
  {
   "cell_type": "code",
   "execution_count": null,
   "metadata": {
    "executionInfo": {
     "elapsed": 4,
     "status": "ok",
     "timestamp": 1670105814384,
     "user": {
      "displayName": "dramicos",
      "userId": "18046899510137570362"
     },
     "user_tz": 360
    },
    "id": "aNA2VfOpPDJy"
   },
   "outputs": [],
   "source": [
    "# We now create features and labels based on these datasets with different bias\n",
    "b_X = balanced_df.drop([\"diagnosis\", \"id\"], axis='columns')\n",
    "b_y = balanced_df['diagnosis']\n",
    "\n",
    "nb_X = balanced_df.drop([\"diagnosis\", \"id\"], axis='columns')\n",
    "nb_y = balanced_df['diagnosis']"
   ]
  },
  {
   "cell_type": "code",
   "execution_count": null,
   "metadata": {
    "executionInfo": {
     "elapsed": 4,
     "status": "ok",
     "timestamp": 1670105814384,
     "user": {
      "displayName": "dramicos",
      "userId": "18046899510137570362"
     },
     "user_tz": 360
    },
    "id": "IpJLepWJPDJy"
   },
   "outputs": [],
   "source": [
    "# split the different datasets: normal (positive bias), balanced and negative bias (after some exploration we found the results were best with a 31% test size)\n",
    "\n",
    "X_train, X_test, y_train, y_test = train_test_split(X, y, random_state=74, stratify=y, test_size=0.31)\n",
    "\n",
    "b_X_train, b_X_test, b_y_train, b_y_test = train_test_split(b_X, b_y, random_state=74, stratify=b_y, test_size=0.31)\n",
    "\n",
    "nb_X_train, nb_X_test, nb_y_train, nb_y_test = train_test_split(nb_X, nb_y, random_state=74, stratify=nb_y, test_size=0.31)"
   ]
  },
  {
   "cell_type": "code",
   "execution_count": null,
   "metadata": {
    "executionInfo": {
     "elapsed": 201,
     "status": "ok",
     "timestamp": 1670105814581,
     "user": {
      "displayName": "dramicos",
      "userId": "18046899510137570362"
     },
     "user_tz": 360
    },
    "id": "J0a56SBVPDJy"
   },
   "outputs": [],
   "source": [
    "# Create a MinMaxScaler instance since all values are positive to try for better results\n",
    "scaler = MinMaxScaler()\n",
    "\n",
    "# Fit the MinMaxScaler\n",
    "X_scaler = scaler.fit(X_train)\n",
    "b_X_scaler = scaler.fit(b_X_train)\n",
    "nb_X_scaler = scaler.fit(nb_X_train)\n",
    "\n",
    "# Scale the data\n",
    "X_train_scaled = X_scaler.transform(X_train)\n",
    "X_test_scaled = X_scaler.transform(X_test)\n",
    "\n",
    "b_X_train_scaled = b_X_scaler.transform(b_X_train)\n",
    "b_X_test_scaled = b_X_scaler.transform(b_X_test)\n",
    "\n",
    "nb_X_train_scaled = nb_X_scaler.transform(nb_X_train)\n",
    "nb_X_test_scaled = nb_X_scaler.transform(nb_X_test)"
   ]
  },
  {
   "cell_type": "markdown",
   "metadata": {
    "id": "2Iop7XZsPDJy"
   },
   "source": [
    "#### In all cases it should be noted that we got different results each time we ran the code, even with the same parameters and seeds. Without doing exhaustive testing to find the mean and variance of the performance of the models it may be hard to prove which parameters gve the best fit. As that is likely the case we will consider results that are within a say 2% to be roughly equivelant."
   ]
  },
  {
   "cell_type": "markdown",
   "metadata": {
    "id": "6X-py8dbPDJy"
   },
   "source": [
    "## Compile, Train and Evaluate the Model"
   ]
  },
  {
   "cell_type": "markdown",
   "metadata": {
    "id": "5qe3Ngb7PDJy"
   },
   "source": [
    "# Standard Machine Learning Models"
   ]
  },
  {
   "cell_type": "markdown",
   "metadata": {
    "id": "gHSlQ4D4PDJy"
   },
   "source": [
    "## Logistic Regression Classifier"
   ]
  },
  {
   "cell_type": "code",
   "execution_count": null,
   "metadata": {
    "colab": {
     "base_uri": "https://localhost:8080/"
    },
    "executionInfo": {
     "elapsed": 7,
     "status": "ok",
     "timestamp": 1670105814581,
     "user": {
      "displayName": "dramicos",
      "userId": "18046899510137570362"
     },
     "user_tz": 360
    },
    "id": "QJm_qfk-PDJy",
    "outputId": "7aeb4ef3-b0c9-4eb5-9268-e8f30cf7a3a2"
   },
   "outputs": [],
   "source": [
    "from sklearn.linear_model import LogisticRegression\n",
    "\n",
    "lr = LogisticRegression(random_state = 1, max_iter=10000)\n",
    "lr.fit(X_train_scaled, y_train)\n",
    "\n",
    "b_lr = LogisticRegression(random_state = 1, max_iter=10000)\n",
    "b_lr.fit(b_X_train_scaled, b_y_train)\n",
    "\n",
    "nb_lr = LogisticRegression(random_state = 1, max_iter=10000)\n",
    "nb_lr.fit(nb_X_train_scaled, nb_y_train)\n",
    "\n",
    "\n",
    "print(f\"Normal Training Data Score: {lr.score(X_train_scaled, y_train)}\")\n",
    "print(f\"Normal Testing Data Score: {lr.score(X_test_scaled, y_test)}/n\")\n",
    "\n",
    "print(f\"Balanced Training Data Score: {lr.score(b_X_train_scaled, b_y_train)}\")\n",
    "print(f\"Balanced Testing Data Score: {lr.score(b_X_test_scaled, b_y_test)}/n\")\n",
    "\n",
    "print(f\"Bias Training Data Score: {lr.score(nb_X_train_scaled, nb_y_train)}\")\n",
    "print(f\"Bias Testing Data Score: {lr.score(nb_X_test_scaled, nb_y_test)}\")"
   ]
  },
  {
   "cell_type": "markdown",
   "metadata": {
    "id": "jgLDdmzLPDJy"
   },
   "source": [
    "Now what we are really interested in is the number of false negatives as that is the worse way to fail. As such we can look at the confusion matrix and see what percent of results are false negatives. One thing that was discovered is that the smaller dataframes are more susceptible to variation."
   ]
  },
  {
   "cell_type": "code",
   "execution_count": null,
   "metadata": {
    "executionInfo": {
     "elapsed": 6,
     "status": "ok",
     "timestamp": 1670105814581,
     "user": {
      "displayName": "dramicos",
      "userId": "18046899510137570362"
     },
     "user_tz": 360
    },
    "id": "qa0_c4jiPDJz"
   },
   "outputs": [],
   "source": [
    "from sklearn.metrics import confusion_matrix"
   ]
  },
  {
   "cell_type": "code",
   "execution_count": null,
   "metadata": {
    "executionInfo": {
     "elapsed": 6,
     "status": "ok",
     "timestamp": 1670105814581,
     "user": {
      "displayName": "dramicos",
      "userId": "18046899510137570362"
     },
     "user_tz": 360
    },
    "id": "LuUZe6ntPDJz"
   },
   "outputs": [],
   "source": [
    "lr_y_pred = lr.predict(X_test_scaled)\n",
    "b_lr_y_pred = b_lr.predict(X_test_scaled)\n",
    "nb_lr_y_pred = nb_lr.predict(X_test_scaled)"
   ]
  },
  {
   "cell_type": "code",
   "execution_count": null,
   "metadata": {
    "colab": {
     "base_uri": "https://localhost:8080/"
    },
    "executionInfo": {
     "elapsed": 6,
     "status": "ok",
     "timestamp": 1670105814581,
     "user": {
      "displayName": "dramicos",
      "userId": "18046899510137570362"
     },
     "user_tz": 360
    },
    "id": "Ex7mgK37PDJz",
    "outputId": "8c641299-dd7c-481e-b82b-a017bb095dcb"
   },
   "outputs": [],
   "source": [
    "lr_cm = confusion_matrix(y_test, lr_y_pred)\n",
    "lr_cm"
   ]
  },
  {
   "cell_type": "code",
   "execution_count": null,
   "metadata": {
    "executionInfo": {
     "elapsed": 3,
     "status": "ok",
     "timestamp": 1670105814582,
     "user": {
      "displayName": "dramicos",
      "userId": "18046899510137570362"
     },
     "user_tz": 360
    },
    "id": "TnC4q91xPDJz"
   },
   "outputs": [],
   "source": [
    "# Since the method is the same we will just pick the normal dataset to see how the results are biased\n",
    "tn, fp, fn, tp = confusion_matrix(y_test, lr_y_pred).ravel()"
   ]
  },
  {
   "cell_type": "code",
   "execution_count": null,
   "metadata": {
    "colab": {
     "base_uri": "https://localhost:8080/"
    },
    "executionInfo": {
     "elapsed": 173,
     "status": "ok",
     "timestamp": 1670105814752,
     "user": {
      "displayName": "dramicos",
      "userId": "18046899510137570362"
     },
     "user_tz": 360
    },
    "id": "Xm7vL3wnPDJz",
    "outputId": "5b4c06ca-093f-4c33-b436-66ddc9b29bc3"
   },
   "outputs": [],
   "source": [
    "# Now we can see the important false negative rate\n",
    "fnr = fn/(tp+fn)\n",
    "print(f'False negative rate: {fnr:.4f}')"
   ]
  },
  {
   "cell_type": "markdown",
   "metadata": {
    "id": "G6jsDgaAPDJz"
   },
   "source": [
    "For logistic regression we found the results to be very similar for each dataset"
   ]
  },
  {
   "cell_type": "markdown",
   "metadata": {
    "id": "EioTJZ2APDJz"
   },
   "source": [
    "## Random Forest Classifier"
   ]
  },
  {
   "cell_type": "code",
   "execution_count": null,
   "metadata": {
    "colab": {
     "base_uri": "https://localhost:8080/"
    },
    "executionInfo": {
     "elapsed": 1175,
     "status": "ok",
     "timestamp": 1670105815925,
     "user": {
      "displayName": "dramicos",
      "userId": "18046899510137570362"
     },
     "user_tz": 360
    },
    "id": "nSGVS9l2PDJz",
    "outputId": "61b9f8ed-941d-4b86-a097-9f9462455902"
   },
   "outputs": [],
   "source": [
    "from sklearn.ensemble import RandomForestClassifier\n",
    "\n",
    "rfc = RandomForestClassifier(random_state=74, n_estimators=200).fit(X_train_scaled, y_train)\n",
    "b_rfc = RandomForestClassifier(random_state=74, n_estimators=200).fit(b_X_train_scaled, b_y_train)\n",
    "nb_rfc = RandomForestClassifier(random_state=74, n_estimators=200).fit(nb_X_train_scaled, nb_y_train)\n",
    "\n",
    "print(f'Training Score: {rfc.score(X_train_scaled, y_train)}')\n",
    "print(f'Testing Score: {rfc.score(X_test_scaled, y_test)}\\n')\n",
    "\n",
    "print(f'Balanced Training Score: {b_rfc.score(b_X_train_scaled, b_y_train)}')\n",
    "print(f'Balanced Testing Score: {b_rfc.score(b_X_test_scaled, b_y_test)}\\n')\n",
    "\n",
    "print(f'Bias Training Score: {nb_rfc.score(nb_X_train_scaled, nb_y_train)}')\n",
    "print(f'Bias Testing Score: {nb_rfc.score(nb_X_test_scaled, nb_y_test)}\\n')"
   ]
  },
  {
   "cell_type": "code",
   "execution_count": null,
   "metadata": {
    "executionInfo": {
     "elapsed": 3,
     "status": "ok",
     "timestamp": 1670105815925,
     "user": {
      "displayName": "dramicos",
      "userId": "18046899510137570362"
     },
     "user_tz": 360
    },
    "id": "SA4QnhtCPDJz"
   },
   "outputs": [],
   "source": [
    "from sklearn.utils import resample"
   ]
  },
  {
   "cell_type": "code",
   "execution_count": null,
   "metadata": {
    "colab": {
     "base_uri": "https://localhost:8080/",
     "height": 357
    },
    "executionInfo": {
     "elapsed": 146,
     "status": "ok",
     "timestamp": 1670105816068,
     "user": {
      "displayName": "dramicos",
      "userId": "18046899510137570362"
     },
     "user_tz": 360
    },
    "id": "cAXPIlgDPDJ0",
    "outputId": "b18a52df-d38b-454d-c6d4-c526e9201a7f"
   },
   "outputs": [],
   "source": [
    "# bar-graph for rfc \n",
    "features = rfc.feature_importances_\n",
    "print(features)\n",
    "plt.bar(x = range(len(features)), height=features)\n",
    "\n",
    "# Save piechart as Image\n",
    "plt.savefig('v_bargraph_random_forest_classifier_rfc.png')\n",
    "\n",
    "plt.show()"
   ]
  },
  {
   "cell_type": "code",
   "execution_count": null,
   "metadata": {
    "colab": {
     "base_uri": "https://localhost:8080/",
     "height": 592
    },
    "executionInfo": {
     "elapsed": 326,
     "status": "ok",
     "timestamp": 1670105816551,
     "user": {
      "displayName": "dramicos",
      "userId": "18046899510137570362"
     },
     "user_tz": 360
    },
    "id": "8Hnwx2P-PDJ0",
    "outputId": "06a534d8-85ca-487e-d47a-7043fe708f8e"
   },
   "outputs": [],
   "source": [
    "features = sorted(zip(X.columns, rfc.feature_importances_), key = lambda x: x[1])\n",
    "cols = [f[0] for f in features]\n",
    "width = [f[1] for f in features]\n",
    "\n",
    "fig, ax = plt.subplots()\n",
    "\n",
    "fig.set_size_inches(5, 10)\n",
    "plt.margins(y=0.001)\n",
    "\n",
    "ax.barh(y=cols, width=width)\n",
    "\n",
    "# Save piechart as Image\n",
    "plt.savefig('h_bargraph_random_forest_classifier_rfc.png')\n",
    "\n",
    "plt.show()"
   ]
  },
  {
   "cell_type": "code",
   "execution_count": null,
   "metadata": {
    "colab": {
     "base_uri": "https://localhost:8080/",
     "height": 356
    },
    "executionInfo": {
     "elapsed": 152,
     "status": "ok",
     "timestamp": 1670105816701,
     "user": {
      "displayName": "dramicos",
      "userId": "18046899510137570362"
     },
     "user_tz": 360
    },
    "id": "apv4GolpPDJ0",
    "outputId": "52115ee6-1c42-4e84-dd11-07ab9dc00a3a"
   },
   "outputs": [],
   "source": [
    "# bar-graph for b_rfc\n",
    "features = b_rfc.feature_importances_\n",
    "print(features)\n",
    "plt.bar(x = range(len(features)), height=features)\n",
    "\n",
    "# Save piechart as Image\n",
    "plt.savefig('v_bargraph_random_forest_classifier_b_rfc.png')\n",
    "\n",
    "plt.show()"
   ]
  },
  {
   "cell_type": "code",
   "execution_count": null,
   "metadata": {
    "colab": {
     "base_uri": "https://localhost:8080/",
     "height": 592
    },
    "executionInfo": {
     "elapsed": 163,
     "status": "ok",
     "timestamp": 1670105817088,
     "user": {
      "displayName": "dramicos",
      "userId": "18046899510137570362"
     },
     "user_tz": 360
    },
    "id": "LUPP6ZbNPDJ0",
    "outputId": "463fe838-2529-49f7-ca9a-99d50bbf6cb0"
   },
   "outputs": [],
   "source": [
    "features = sorted(zip(X.columns, b_rfc.feature_importances_), key = lambda x: x[1])\n",
    "cols = [f[0] for f in features]\n",
    "width = [f[1] for f in features]\n",
    "\n",
    "fig, ax = plt.subplots()\n",
    "\n",
    "fig.set_size_inches(5, 10)\n",
    "plt.margins(y=0.001)\n",
    "\n",
    "ax.barh(y=cols, width=width)\n",
    "\n",
    "# Save piechart as Image\n",
    "plt.savefig('h_bargraph_random_forest_classifier_b_rfc.png')\n",
    "\n",
    "plt.show()"
   ]
  },
  {
   "cell_type": "code",
   "execution_count": null,
   "metadata": {
    "colab": {
     "base_uri": "https://localhost:8080/",
     "height": 356
    },
    "executionInfo": {
     "elapsed": 139,
     "status": "ok",
     "timestamp": 1670105817358,
     "user": {
      "displayName": "dramicos",
      "userId": "18046899510137570362"
     },
     "user_tz": 360
    },
    "id": "HRcb7M_mPDJ1",
    "outputId": "41e4761c-f921-4d99-c0f3-d4720195eacf"
   },
   "outputs": [],
   "source": [
    "# bar-graph for nb_rfc \n",
    "features = nb_rfc.feature_importances_\n",
    "print(features)\n",
    "plt.bar(x = range(len(features)), height=features)\n",
    "\n",
    "# Save piechart as Image\n",
    "plt.savefig('v_bargraph_random_forest_classifier_nb_rfc.png')\n",
    "\n",
    "plt.show()"
   ]
  },
  {
   "cell_type": "code",
   "execution_count": null,
   "metadata": {
    "colab": {
     "base_uri": "https://localhost:8080/",
     "height": 592
    },
    "executionInfo": {
     "elapsed": 380,
     "status": "ok",
     "timestamp": 1670105817885,
     "user": {
      "displayName": "dramicos",
      "userId": "18046899510137570362"
     },
     "user_tz": 360
    },
    "id": "8oU63MANPDJ1",
    "outputId": "7078cbd5-c838-4fa7-d166-95665e9679d2"
   },
   "outputs": [],
   "source": [
    "features = sorted(zip(X.columns, nb_rfc.feature_importances_), key = lambda x: x[1])\n",
    "cols = [f[0] for f in features]\n",
    "width = [f[1] for f in features]\n",
    "\n",
    "fig, ax = plt.subplots()\n",
    "\n",
    "fig.set_size_inches(5, 10)\n",
    "plt.margins(y=0.001)\n",
    "\n",
    "ax.barh(y=cols, width=width)\n",
    "\n",
    "# Save piechart as Image\n",
    "plt.savefig('h_bargraph_random_forest_classifier_nb_rfc.png')\n",
    "\n",
    "plt.show()"
   ]
  },
  {
   "cell_type": "code",
   "execution_count": null,
   "metadata": {
    "executionInfo": {
     "elapsed": 3,
     "status": "ok",
     "timestamp": 1670105817886,
     "user": {
      "displayName": "dramicos",
      "userId": "18046899510137570362"
     },
     "user_tz": 360
    },
    "id": "1QQ4H3c0PDJ1"
   },
   "outputs": [],
   "source": [
    "y_pred = rfc.predict(X_test_scaled)\n",
    "b_y_pred = b_rfc.predict(b_X_test_scaled)\n",
    "nb_y_pred = nb_rfc.predict(nb_X_test_scaled)"
   ]
  },
  {
   "cell_type": "code",
   "execution_count": null,
   "metadata": {
    "executionInfo": {
     "elapsed": 3,
     "status": "ok",
     "timestamp": 1670105817886,
     "user": {
      "displayName": "dramicos",
      "userId": "18046899510137570362"
     },
     "user_tz": 360
    },
    "id": "fxQqv-iIPDJ1"
   },
   "outputs": [],
   "source": [
    "cm = confusion_matrix(y_test, y_pred)\n",
    "tn, fp, fn, tp = confusion_matrix(y_test, y_pred).ravel()\n",
    "\n",
    "b_cm = confusion_matrix(b_y_test, b_y_pred)\n",
    "btn, bfp, bfn, btp = confusion_matrix(b_y_test, b_y_pred).ravel()\n",
    "\n",
    "nb_cm = confusion_matrix(nb_y_test, nb_y_pred)\n",
    "nbtn, nbfp, nbfn, nbtp = confusion_matrix(nb_y_test, nb_y_pred).ravel()"
   ]
  },
  {
   "cell_type": "markdown",
   "metadata": {
    "id": "L3H8iPulPDJ1"
   },
   "source": [
    "#### This time we will look at all the biases between all the datasets"
   ]
  },
  {
   "cell_type": "code",
   "execution_count": null,
   "metadata": {
    "executionInfo": {
     "elapsed": 3,
     "status": "ok",
     "timestamp": 1670105817886,
     "user": {
      "displayName": "dramicos",
      "userId": "18046899510137570362"
     },
     "user_tz": 360
    },
    "id": "l8ck2akSPDJ1"
   },
   "outputs": [],
   "source": [
    "# Sensitivity, hit rate, recall, or true positive rate\n",
    "tpr = tp/(tp+fn)\n",
    "btpr = btp/(btp+bfn)\n",
    "nbtpr = nbtp/(nbtp+nbfn)\n",
    "\n",
    "# Specificity or true negative rate\n",
    "tnr = tn/(tn+fp) \n",
    "btnr = btn/(btn+bfp) \n",
    "nbtnr = nbtn/(nbtn+nbfp)\n",
    "\n",
    "# Precision or positive predictive value\n",
    "ppv = tp/(tp+fp)\n",
    "bppv = btp/(btp+bfp)\n",
    "nbppv = nbtp/(nbtp+nbfp)\n",
    "\n",
    "# Negative predictive value\n",
    "npv = tn/(tn+fn)\n",
    "bnpv = btn/(btn+bfn)\n",
    "nbnpv = nbtn/(nbtn+nbfn)\n",
    "\n",
    "# Fall out or false positive rate\n",
    "fpr = fp/(fp+tn)\n",
    "bfpr = bfp/(bfp+btn)\n",
    "nbfpr = nbfp/(nbfp+nbtn)\n",
    "\n",
    "# False negative rate\n",
    "fnr = fn/(tp+fn)\n",
    "bfnr = bfn/(btp+bfn)\n",
    "nbfnr = nbfn/(nbtp+nbfn)\n",
    "\n",
    "# False discovery rate\n",
    "fdr = fp/(tp+fp)\n",
    "bfdr = bfp/(btp+bfp)\n",
    "nbfdr = nbfp/(nbtp+nbfp)\n",
    "\n",
    "# Overall accuracy\n",
    "acc = (tp+tn)/(tp+fp+fn+tn)\n",
    "bacc = (btp+btn)/(btp+bfp+bfn+btn)\n",
    "nbacc = (nbtp+nbtn)/(nbtp+nbfp+nbfn+nbtn)\n"
   ]
  },
  {
   "cell_type": "code",
   "execution_count": null,
   "metadata": {
    "colab": {
     "base_uri": "https://localhost:8080/"
    },
    "executionInfo": {
     "elapsed": 177,
     "status": "ok",
     "timestamp": 1670105818060,
     "user": {
      "displayName": "dramicos",
      "userId": "18046899510137570362"
     },
     "user_tz": 360
    },
    "id": "2lv6KykpPDJ2",
    "outputId": "da5aad08-11ad-43a5-e8de-5b8f5805715a"
   },
   "outputs": [],
   "source": [
    "print(f'True positive rates: {tpr:.4f} b: {btpr:.4f} nb: {nbtpr:.4f}')\n",
    "print(f'True negative rates: {tnr:.4f} b: {btnr:.4f} nb: {nbtnr:.4f}')\n",
    "print(f'Positive predictive values: {ppv:.4f} b: {bppv:.4f} nb: {nbppv:.4f}')\n",
    "print(f'Negative predictive values: {npv:.4f} b: {bnpv:.4f} nb: {nbnpv:.4f}')\n",
    "print(f'False positive rates: {fpr:.4f} b: {bfpr:.4f} nb: {nbfpr:.4f}')\n",
    "print(f'False negative rates: {fnr:.4f} b: {bfnr:.4f} nb: {nbfnr:.4f}')\n",
    "print(f'False discovery rates: {fdr:.4f} b: {bfdr:.4f} nb: {nbfdr:.4f}')\n",
    "print(f'Overall Accuracies: {acc:.4f} b: {bacc:.4f} nb: {nbacc:.4f}')"
   ]
  },
  {
   "cell_type": "markdown",
   "metadata": {
    "id": "GhKXIU-mPDJ2"
   },
   "source": [
    "## K Nearest Neighbors Classifier"
   ]
  },
  {
   "cell_type": "code",
   "execution_count": null,
   "metadata": {
    "executionInfo": {
     "elapsed": 2,
     "status": "ok",
     "timestamp": 1670105818060,
     "user": {
      "displayName": "dramicos",
      "userId": "18046899510137570362"
     },
     "user_tz": 360
    },
    "id": "PGPvB5LwPDJ2"
   },
   "outputs": [],
   "source": [
    "from sklearn.neighbors import KNeighborsClassifier"
   ]
  },
  {
   "cell_type": "code",
   "execution_count": null,
   "metadata": {
    "colab": {
     "base_uri": "https://localhost:8080/"
    },
    "executionInfo": {
     "elapsed": 856,
     "status": "ok",
     "timestamp": 1670105818915,
     "user": {
      "displayName": "dramicos",
      "userId": "18046899510137570362"
     },
     "user_tz": 360
    },
    "id": "tXSsZ5cAPDJ2",
    "outputId": "0d0dffcb-9bb5-4798-c3c7-65b3fbd6ceae"
   },
   "outputs": [],
   "source": [
    "# Loop through different k values to find which has the highest accuracy\n",
    "train_scores = []\n",
    "btrain_scores = []\n",
    "nbtrain_scores = []\n",
    "test_scores = []\n",
    "btest_scores = []\n",
    "nbtest_scores = []\n",
    "\n",
    "\n",
    "for k in range(1, 20, 2):\n",
    "    knn = KNeighborsClassifier(n_neighbors=k)\n",
    "    bknn = KNeighborsClassifier(n_neighbors=k)\n",
    "    nbknn = KNeighborsClassifier(n_neighbors=k)\n",
    "\n",
    "    knn.fit(X_train_scaled, y_train)\n",
    "    bknn.fit(b_X_train_scaled, b_y_train)\n",
    "    nbknn.fit(nb_X_train_scaled, nb_y_train)\n",
    "\n",
    "    train_score = knn.score(X_train_scaled, y_train)\n",
    "    btrain_score = bknn.score(b_X_train_scaled, b_y_train)\n",
    "    nbtrain_score = nbknn.score(nb_X_train_scaled, nb_y_train)\n",
    "\n",
    "    test_score = knn.score(X_test_scaled, y_test)\n",
    "    btest_score = bknn.score(b_X_test_scaled, b_y_test)\n",
    "    nbtest_score = nbknn.score(nb_X_test_scaled, nb_y_test)\n",
    "    \n",
    "    train_scores.append(train_score)\n",
    "    btrain_scores.append(btrain_score)\n",
    "    nbtrain_scores.append(nbtrain_score)\n",
    "\n",
    "    test_scores.append(test_score)\n",
    "    btest_scores.append(btest_score)\n",
    "    nbtest_scores.append(nbtest_score)\n",
    "\n",
    "\n",
    "    print(f\"k: {k}, Train/Test Score: {train_score:.4f}/{test_score:.4f}\")\n",
    "    print(f\"k: {k}, bTrain/bTest Score: {btrain_score:.4f}/{btest_score:.4f}\")\n",
    "    print(f\"k: {k}, nbTrain/nbTest Score: {nbtrain_score:.4f}/{nbtest_score:.4f}\\n\")"
   ]
  },
  {
   "cell_type": "code",
   "execution_count": null,
   "metadata": {
    "colab": {
     "base_uri": "https://localhost:8080/",
     "height": 279
    },
    "executionInfo": {
     "elapsed": 307,
     "status": "ok",
     "timestamp": 1670105819221,
     "user": {
      "displayName": "dramicos",
      "userId": "18046899510137570362"
     },
     "user_tz": 360
    },
    "id": "ugSw7odDPDJ2",
    "outputId": "fa32f5c9-6049-4482-96a4-94b1f4342122"
   },
   "outputs": [],
   "source": [
    "# Loop through different k values to find which has the highest accuracy.\n",
    "# Note: We use only odd numbers because we don't want any ties.\n",
    "plt.plot(range(1, 20, 2), train_scores, marker='o')\n",
    "plt.plot(range(1, 20, 2), test_scores, marker=\"x\")\n",
    "plt.xlabel(\"k neighbors\")\n",
    "plt.ylabel(\"Testing accuracy Score\")\n",
    "\n",
    "# Save as Image\n",
    "plt.savefig('multi_line_graph_kneighbor.png')\n",
    "\n",
    "plt.show()"
   ]
  },
  {
   "cell_type": "code",
   "execution_count": null,
   "metadata": {
    "colab": {
     "base_uri": "https://localhost:8080/"
    },
    "executionInfo": {
     "elapsed": 11,
     "status": "ok",
     "timestamp": 1670105819221,
     "user": {
      "displayName": "dramicos",
      "userId": "18046899510137570362"
     },
     "user_tz": 360
    },
    "id": "mTvUPmM-PDJ2",
    "outputId": "488d75df-d649-4c1e-dd6e-400b1cfdb938"
   },
   "outputs": [],
   "source": [
    "# Looks like k = 3 is best with the normal (larger dataset) \n",
    "knn = KNeighborsClassifier(n_neighbors=3)\n",
    "knn.fit(X_train_scaled, y_train)\n",
    "print('k=3 Test Acc: %.4f' % knn.score(X_test_scaled, y_test))"
   ]
  },
  {
   "cell_type": "code",
   "execution_count": null,
   "metadata": {
    "colab": {
     "base_uri": "https://localhost:8080/"
    },
    "executionInfo": {
     "elapsed": 8,
     "status": "ok",
     "timestamp": 1670105819221,
     "user": {
      "displayName": "dramicos",
      "userId": "18046899510137570362"
     },
     "user_tz": 360
    },
    "id": "d4jIujOyPDJ2",
    "outputId": "dbcdda27-5555-430c-ac96-3f223e73c279"
   },
   "outputs": [],
   "source": [
    "y_pred_knn = knn.predict(X_test_scaled)\n",
    "cm_knn = confusion_matrix(y_test, y_pred_knn)\n",
    "cm_knn"
   ]
  },
  {
   "cell_type": "code",
   "execution_count": null,
   "metadata": {
    "colab": {
     "base_uri": "https://localhost:8080/"
    },
    "executionInfo": {
     "elapsed": 5,
     "status": "ok",
     "timestamp": 1670105819221,
     "user": {
      "displayName": "dramicos",
      "userId": "18046899510137570362"
     },
     "user_tz": 360
    },
    "id": "v9ZmU1jBPDJ2",
    "outputId": "904e3256-f9d3-4049-a199-9902ab81e341"
   },
   "outputs": [],
   "source": [
    "ktn, kfp, kfn, ktp = confusion_matrix(y_test, y_pred_knn).ravel()\n",
    "\n",
    "kfnr = kfn/(ktp+kfn)\n",
    "\n",
    "print(f'False negative rate: {kfnr:.4f}')"
   ]
  },
  {
   "cell_type": "markdown",
   "metadata": {
    "id": "GsLsaJyhPDJ3"
   },
   "source": [
    "This shows that knn performed as well as the balanced random forest in both accuracy and false negative rate."
   ]
  },
  {
   "cell_type": "markdown",
   "metadata": {
    "id": "Je2UFJu-PDJ3"
   },
   "source": [
    "## C-Support Vector Classification"
   ]
  },
  {
   "cell_type": "code",
   "execution_count": null,
   "metadata": {
    "executionInfo": {
     "elapsed": 1051,
     "status": "ok",
     "timestamp": 1670105820269,
     "user": {
      "displayName": "dramicos",
      "userId": "18046899510137570362"
     },
     "user_tz": 360
    },
    "id": "dJa6HqFKPDJ3"
   },
   "outputs": [],
   "source": [
    "from sklearn.svm import SVC\n",
    "\n",
    "lsvc = SVC(kernel='linear').fit(X_train, y_train)\n",
    "psvc2 = SVC(kernel='poly', degree=2).fit(X_train, y_train)\n",
    "psvc3 = SVC(kernel='poly', degree=3).fit(X_train, y_train)\n",
    "psvc8 = SVC(kernel='poly', degree=8).fit(X_train, y_train)\n",
    "psvc9 = SVC(kernel='poly', degree=9).fit(X_train, y_train)\n",
    "gsvc = SVC(kernel='rbf').fit(X_train, y_train)\n",
    "ssvc = SVC(kernel='sigmoid').fit(X_train, y_train)\n"
   ]
  },
  {
   "cell_type": "code",
   "execution_count": null,
   "metadata": {
    "executionInfo": {
     "elapsed": 4,
     "status": "ok",
     "timestamp": 1670105820269,
     "user": {
      "displayName": "dramicos",
      "userId": "18046899510137570362"
     },
     "user_tz": 360
    },
    "id": "AsjOUHY0PDJ3"
   },
   "outputs": [],
   "source": [
    "y_pred_l = lsvc.predict(X_test)\n",
    "y_pred_p2 = psvc2.predict(X_test)\n",
    "y_pred_p3 = psvc3.predict(X_test)\n",
    "y_pred_p8 = psvc8.predict(X_test)\n",
    "y_pred_p9 = psvc9.predict(X_test)\n",
    "y_pred_g = gsvc.predict(X_test)\n",
    "y_pred_s = ssvc.predict(X_test)"
   ]
  },
  {
   "cell_type": "code",
   "execution_count": null,
   "metadata": {
    "executionInfo": {
     "elapsed": 4,
     "status": "ok",
     "timestamp": 1670105820270,
     "user": {
      "displayName": "dramicos",
      "userId": "18046899510137570362"
     },
     "user_tz": 360
    },
    "id": "YlpX8LPWPDJ3"
   },
   "outputs": [],
   "source": [
    "# for a quicker summary (though without the false negative rate) we can use a classification report.\n",
    "# This can save time in deciding if a model is worth further investigation.\n",
    "\n",
    "from sklearn.metrics import classification_report"
   ]
  },
  {
   "cell_type": "code",
   "execution_count": null,
   "metadata": {
    "colab": {
     "base_uri": "https://localhost:8080/"
    },
    "executionInfo": {
     "elapsed": 203,
     "status": "ok",
     "timestamp": 1670105820469,
     "user": {
      "displayName": "dramicos",
      "userId": "18046899510137570362"
     },
     "user_tz": 360
    },
    "id": "GXET8ORcPDJ3",
    "outputId": "b9e7059b-cea4-467d-dd2b-14dc479edfa0"
   },
   "outputs": [],
   "source": [
    "print(classification_report(y_test, y_pred_l))\n",
    "print(classification_report(y_test, y_pred_p2))\n",
    "print(classification_report(y_test, y_pred_p3))\n",
    "print(classification_report(y_test, y_pred_p8))\n",
    "print(classification_report(y_test, y_pred_p9))\n",
    "print(classification_report(y_test, y_pred_g))\n",
    "print(classification_report(y_test, y_pred_s))"
   ]
  },
  {
   "cell_type": "code",
   "execution_count": null,
   "metadata": {
    "executionInfo": {
     "elapsed": 2,
     "status": "ok",
     "timestamp": 1670105820469,
     "user": {
      "displayName": "dramicos",
      "userId": "18046899510137570362"
     },
     "user_tz": 360
    },
    "id": "c8Ee5F25PDJ4"
   },
   "outputs": [],
   "source": [
    "# # Fit to the training data, and validate with the testing data\n",
    "# model = SVC(kernel='linear')\n",
    "# model.fit(X_train, y_train)\n",
    "# predictions = model.predict(X_test)"
   ]
  },
  {
   "cell_type": "code",
   "execution_count": null,
   "metadata": {
    "colab": {
     "base_uri": "https://localhost:8080/"
    },
    "executionInfo": {
     "elapsed": 2,
     "status": "ok",
     "timestamp": 1670105820469,
     "user": {
      "displayName": "dramicos",
      "userId": "18046899510137570362"
     },
     "user_tz": 360
    },
    "id": "GeQKiutektgl",
    "outputId": "8906a2dd-2e69-4bb2-a47f-fd87bfb86be6"
   },
   "outputs": [],
   "source": [
    "X_train.sample(n=2, axis=1).iloc[:,0]"
   ]
  },
  {
   "cell_type": "code",
   "execution_count": null,
   "metadata": {
    "colab": {
     "base_uri": "https://localhost:8080/",
     "height": 305
    },
    "executionInfo": {
     "elapsed": 196,
     "status": "ok",
     "timestamp": 1670105820664,
     "user": {
      "displayName": "dramicos",
      "userId": "18046899510137570362"
     },
     "user_tz": 360
    },
    "id": "jaHP3_RkPDJ4",
    "outputId": "54e51824-e1c8-4fa3-8df7-ce0b39d308c9"
   },
   "outputs": [],
   "source": [
    "# If we reduce the data down and randomly select only 2 features so we can see how this looks\n",
    "sX = X_train.sample(n=2, axis=1)\n",
    "slsvc = SVC(kernel='linear').fit(sX, y_train)\n",
    "\n",
    "# mesh step size\n",
    "h = .1\n",
    "\n",
    "# create mesh to plot in\n",
    "x_min, x_max = sX.iloc[:, 0].min() - 1, sX.iloc[:, 0].max() + 1\n",
    "y_min, y_max = sX.iloc[:, 1].min() - 1, sX.iloc[:, 1].max() + 1\n",
    "xx, yy = np.meshgrid(np.arange(x_min, x_max, h), np.arange(y_min, y_max, h))\n",
    "\n",
    "# xx, yy = np.mgrid[x_min:x_max, y_min:y_max]\n",
    "Z = slsvc.predict(np.c_[xx.ravel(), yy.ravel()])\n",
    "\n",
    "# Put the result into a color plot\n",
    "Z = Z.reshape(xx.shape)\n",
    "# plt.pcolormesh(XX, YY, Z > 0, cmap=plt.cm.Paired)\n",
    "plt.contourf(xx, yy, Z, cmap=plt.cm.coolwarm, alpha=0.7)\n",
    "plt.scatter(sX.iloc[:, 0], sX.iloc[:, 1], c=y_train, cmap=plt.cm.coolwarm)\n",
    "plt.xlim(xx.min(), xx.max())\n",
    "plt.ylim(yy.min(), yy.max())\n",
    "plt.xticks(())\n",
    "plt.yticks(())\n",
    "plt.title('Linear Kernel')\n",
    "\n",
    "# Save as Image\n",
    "plt.savefig('svc.png')\n",
    "\n",
    "plt.show()"
   ]
  },
  {
   "cell_type": "markdown",
   "metadata": {
    "id": "BbRMLYe3PDJ4"
   },
   "source": [
    "# Dimension Reduction and unsupervised Model"
   ]
  },
  {
   "cell_type": "code",
   "execution_count": null,
   "metadata": {
    "executionInfo": {
     "elapsed": 6,
     "status": "ok",
     "timestamp": 1670105820664,
     "user": {
      "displayName": "dramicos",
      "userId": "18046899510137570362"
     },
     "user_tz": 360
    },
    "id": "QT5uxhMiPDJ4"
   },
   "outputs": [],
   "source": [
    "from sklearn.decomposition import PCA\n",
    "from sklearn.manifold import TSNE"
   ]
  },
  {
   "cell_type": "code",
   "execution_count": null,
   "metadata": {
    "executionInfo": {
     "elapsed": 6,
     "status": "ok",
     "timestamp": 1670105820664,
     "user": {
      "displayName": "dramicos",
      "userId": "18046899510137570362"
     },
     "user_tz": 360
    },
    "id": "BBKQjBocPDJ4"
   },
   "outputs": [],
   "source": [
    "# First we reduce the dimensionality (we will first try cutting it in half)\n",
    "pca = PCA(n_components=15)"
   ]
  },
  {
   "cell_type": "code",
   "execution_count": null,
   "metadata": {
    "executionInfo": {
     "elapsed": 6,
     "status": "ok",
     "timestamp": 1670105820664,
     "user": {
      "displayName": "dramicos",
      "userId": "18046899510137570362"
     },
     "user_tz": 360
    },
    "id": "UushEXsGPDJ4"
   },
   "outputs": [],
   "source": [
    "X_scale = scaler.fit(X)\n",
    "X_scaled = X_scale.transform(X)\n",
    "pca_X = pca.fit_transform(X_scaled)"
   ]
  },
  {
   "cell_type": "code",
   "execution_count": null,
   "metadata": {
    "executionInfo": {
     "elapsed": 7,
     "status": "ok",
     "timestamp": 1670105820665,
     "user": {
      "displayName": "dramicos",
      "userId": "18046899510137570362"
     },
     "user_tz": 360
    },
    "id": "VSekTaNmPDJ4"
   },
   "outputs": [],
   "source": [
    "# We want to look at a few parameters of t-sne to optimize since it can be sensitive to perplexity based on data density - we also only want to see 2 dimensions\n",
    "tsne = TSNE(n_components=2, perplexity=15, n_iter=1000, learning_rate=150)"
   ]
  },
  {
   "cell_type": "code",
   "execution_count": null,
   "metadata": {
    "colab": {
     "base_uri": "https://localhost:8080/"
    },
    "executionInfo": {
     "elapsed": 7,
     "status": "ok",
     "timestamp": 1670105820665,
     "user": {
      "displayName": "dramicos",
      "userId": "18046899510137570362"
     },
     "user_tz": 360
    },
    "id": "SFnNVOU6PDJ4",
    "outputId": "eccdc607-3fc0-428b-8b64-055b9c4b6439"
   },
   "outputs": [],
   "source": [
    "pca_X.shape"
   ]
  },
  {
   "cell_type": "code",
   "execution_count": null,
   "metadata": {
    "colab": {
     "base_uri": "https://localhost:8080/"
    },
    "executionInfo": {
     "elapsed": 4037,
     "status": "ok",
     "timestamp": 1670105824699,
     "user": {
      "displayName": "dramicos",
      "userId": "18046899510137570362"
     },
     "user_tz": 360
    },
    "id": "uojrvsauPDJ4",
    "outputId": "a434e3cc-ab30-424a-86b5-04c8af024b72"
   },
   "outputs": [],
   "source": [
    "tsne_features = tsne.fit_transform(pca_X)"
   ]
  },
  {
   "cell_type": "code",
   "execution_count": null,
   "metadata": {
    "colab": {
     "base_uri": "https://localhost:8080/",
     "height": 265
    },
    "executionInfo": {
     "elapsed": 119,
     "status": "ok",
     "timestamp": 1670105824810,
     "user": {
      "displayName": "dramicos",
      "userId": "18046899510137570362"
     },
     "user_tz": 360
    },
    "id": "fVqpkXk5PDJ4",
    "outputId": "3b824255-8e28-4673-b8e8-8012a3360fce"
   },
   "outputs": [],
   "source": [
    "plt.scatter(tsne_features[:,0],tsne_features[:,1], c=y)\n",
    "\n",
    "# Save as Image\n",
    "plt.savefig('scatter_tsne.png')\n",
    "\n",
    "plt.show()"
   ]
  },
  {
   "cell_type": "code",
   "execution_count": null,
   "metadata": {
    "executionInfo": {
     "elapsed": 153,
     "status": "ok",
     "timestamp": 1670105824961,
     "user": {
      "displayName": "dramicos",
      "userId": "18046899510137570362"
     },
     "user_tz": 360
    },
    "id": "KeMT6wHUPDJ5"
   },
   "outputs": [],
   "source": [
    "# We can now see how well kmeans can tell the data apart.  Since it is a binary test we can only have 2 clusters though.\n",
    "from sklearn.cluster import KMeans\n",
    "\n",
    "km = KMeans(n_clusters=2, random_state=74)\n",
    "km.fit(pca_X)\n",
    "cluster_pred = km.predict(pca_X)"
   ]
  },
  {
   "cell_type": "code",
   "execution_count": null,
   "metadata": {
    "colab": {
     "base_uri": "https://localhost:8080/",
     "height": 265
    },
    "executionInfo": {
     "elapsed": 296,
     "status": "ok",
     "timestamp": 1670105825256,
     "user": {
      "displayName": "dramicos",
      "userId": "18046899510137570362"
     },
     "user_tz": 360
    },
    "id": "qz8GvJLaPDJ5",
    "outputId": "2dcba021-281f-4d4c-ddef-0321b9810a39"
   },
   "outputs": [],
   "source": [
    "plt.scatter(tsne_features[:,0], tsne_features[:,1], c=cluster_pred)\n",
    "\n",
    "# Save piechart as Image\n",
    "plt.savefig('scatter_tsne_cluster.png')\n",
    "\n",
    "plt.show()"
   ]
  },
  {
   "cell_type": "code",
   "execution_count": null,
   "metadata": {
    "colab": {
     "base_uri": "https://localhost:8080/"
    },
    "executionInfo": {
     "elapsed": 11,
     "status": "ok",
     "timestamp": 1670105825258,
     "user": {
      "displayName": "dramicos",
      "userId": "18046899510137570362"
     },
     "user_tz": 360
    },
    "id": "2mDD3BHePDJ5",
    "outputId": "03c09d28-5f89-4ca1-e7bd-029df2fe27c0"
   },
   "outputs": [],
   "source": [
    "pca.explained_variance_ratio_"
   ]
  },
  {
   "cell_type": "code",
   "execution_count": null,
   "metadata": {
    "colab": {
     "base_uri": "https://localhost:8080/"
    },
    "executionInfo": {
     "elapsed": 8,
     "status": "ok",
     "timestamp": 1670105825258,
     "user": {
      "displayName": "dramicos",
      "userId": "18046899510137570362"
     },
     "user_tz": 360
    },
    "id": "SL9CWQjLPDJ5",
    "outputId": "1b69019e-88d7-4af9-9910-57d53ff58b6d"
   },
   "outputs": [],
   "source": [
    "sum = 0\n",
    "\n",
    "for i in pca.explained_variance_ratio_:\n",
    "  sum += i\n",
    "\n",
    "# here we can see that the 15 variables account for almost 99% of the variance\n",
    "print(sum)"
   ]
  },
  {
   "cell_type": "code",
   "execution_count": null,
   "metadata": {
    "colab": {
     "base_uri": "https://localhost:8080/"
    },
    "executionInfo": {
     "elapsed": 6,
     "status": "ok",
     "timestamp": 1670105825258,
     "user": {
      "displayName": "dramicos",
      "userId": "18046899510137570362"
     },
     "user_tz": 360
    },
    "id": "pLHkEx0XPDJ5",
    "outputId": "19c75bd8-5cc4-4938-f8bc-ce8e17134239"
   },
   "outputs": [],
   "source": [
    "print(classification_report(y, cluster_pred))"
   ]
  },
  {
   "cell_type": "code",
   "execution_count": null,
   "metadata": {
    "executionInfo": {
     "elapsed": 4,
     "status": "ok",
     "timestamp": 1670105825258,
     "user": {
      "displayName": "dramicos",
      "userId": "18046899510137570362"
     },
     "user_tz": 360
    },
    "id": "5sHWPzIvPDJ5"
   },
   "outputs": [],
   "source": [
    "from sklearn.cluster import KMeans"
   ]
  },
  {
   "cell_type": "code",
   "execution_count": null,
   "metadata": {
    "executionInfo": {
     "elapsed": 4,
     "status": "ok",
     "timestamp": 1670105825258,
     "user": {
      "displayName": "dramicos",
      "userId": "18046899510137570362"
     },
     "user_tz": 360
    },
    "id": "OUBMMTGwPDJ5"
   },
   "outputs": [],
   "source": [
    "# Initialize PCA model for 3 principal components\n",
    "pca = PCA(n_components=3, random_state=5)\n",
    "\n",
    "# Get 3 principal components for the iris data.\n",
    "breast_pca = pca.fit_transform(balanced_df)"
   ]
  },
  {
   "cell_type": "code",
   "execution_count": null,
   "metadata": {
    "colab": {
     "base_uri": "https://localhost:8080/",
     "height": 206
    },
    "executionInfo": {
     "elapsed": 257,
     "status": "ok",
     "timestamp": 1670105825511,
     "user": {
      "displayName": "dramicos",
      "userId": "18046899510137570362"
     },
     "user_tz": 360
    },
    "id": "VikotoXIPDJ5",
    "outputId": "6a58cb50-8af4-4e46-aa8e-daa7c8efba15"
   },
   "outputs": [],
   "source": [
    "# Transform PCA data to a DataFrame\n",
    "balanced_df = pd.DataFrame(\n",
    "    data=breast_pca,\n",
    "    columns=[\"principal component 1\", \"principal component 2\", \"principal component 3\"],\n",
    ")\n",
    "balanced_df.head()"
   ]
  },
  {
   "cell_type": "code",
   "execution_count": null,
   "metadata": {
    "executionInfo": {
     "elapsed": 14,
     "status": "ok",
     "timestamp": 1670105825512,
     "user": {
      "displayName": "dramicos",
      "userId": "18046899510137570362"
     },
     "user_tz": 360
    },
    "id": "ixMWt7rdPDJ5"
   },
   "outputs": [],
   "source": [
    "# Initialzie the K-Means model\n",
    "model = KMeans(n_clusters=3, random_state=5)"
   ]
  },
  {
   "cell_type": "code",
   "execution_count": null,
   "metadata": {
    "colab": {
     "base_uri": "https://localhost:8080/"
    },
    "executionInfo": {
     "elapsed": 14,
     "status": "ok",
     "timestamp": 1670105825512,
     "user": {
      "displayName": "dramicos",
      "userId": "18046899510137570362"
     },
     "user_tz": 360
    },
    "id": "uDgHrMNMPDJ6",
    "outputId": "20482b47-af79-4efd-e17a-16fc264b0122"
   },
   "outputs": [],
   "source": [
    "# Fit the model\n",
    "model.fit(balanced_df)"
   ]
  },
  {
   "cell_type": "code",
   "execution_count": null,
   "metadata": {
    "colab": {
     "base_uri": "https://localhost:8080/"
    },
    "executionInfo": {
     "elapsed": 11,
     "status": "ok",
     "timestamp": 1670105825512,
     "user": {
      "displayName": "dramicos",
      "userId": "18046899510137570362"
     },
     "user_tz": 360
    },
    "id": "LrywLT7kPDJ6",
    "outputId": "6b28ceb1-ae21-4296-a75a-015d5fe20a1f"
   },
   "outputs": [],
   "source": [
    "# Prediction Clusters\n",
    "predictions = model.predict(balanced_df)\n",
    "print(predictions)"
   ]
  },
  {
   "cell_type": "code",
   "execution_count": null,
   "metadata": {
    "colab": {
     "base_uri": "https://localhost:8080/",
     "height": 206
    },
    "executionInfo": {
     "elapsed": 9,
     "status": "ok",
     "timestamp": 1670105825513,
     "user": {
      "displayName": "dramicos",
      "userId": "18046899510137570362"
     },
     "user_tz": 360
    },
    "id": "QLr_tucUPDJ6",
    "outputId": "b641e580-1c7b-4a76-be7f-1d89b8e36cb7"
   },
   "outputs": [],
   "source": [
    "# Add the predicted class columns\n",
    "balanced_df[\"class\"] = model.labels_\n",
    "balanced_df.head()"
   ]
  },
  {
   "cell_type": "code",
   "execution_count": null,
   "metadata": {
    "colab": {
     "base_uri": "https://localhost:8080/"
    },
    "executionInfo": {
     "elapsed": 8,
     "status": "ok",
     "timestamp": 1670105825513,
     "user": {
      "displayName": "dramicos",
      "userId": "18046899510137570362"
     },
     "user_tz": 360
    },
    "id": "bXVF_nzLPDJ6",
    "outputId": "3eaa31e5-5f97-4e4a-c876-a0161b22e6f0"
   },
   "outputs": [],
   "source": [
    "# Fetch the explained variance\n",
    "pca.explained_variance_ratio_"
   ]
  },
  {
   "cell_type": "code",
   "execution_count": null,
   "metadata": {
    "colab": {
     "base_uri": "https://localhost:8080/",
     "height": 542
    },
    "executionInfo": {
     "elapsed": 879,
     "status": "ok",
     "timestamp": 1670105826387,
     "user": {
      "displayName": "dramicos",
      "userId": "18046899510137570362"
     },
     "user_tz": 360
    },
    "id": "TUjwWRITPDJ6",
    "outputId": "8db58078-7103-4c9d-c9ad-416a73c1e2d3"
   },
   "outputs": [],
   "source": [
    "# Plot the 3 principal components\n",
    "import plotly.express as px\n",
    "fig = px.scatter_3d(\n",
    "    balanced_df,\n",
    "    x=\"principal component 3\",\n",
    "    y=\"principal component 2\",\n",
    "    z=\"principal component 1\",\n",
    "    color =\"class\",\n",
    "    symbol=\"class\",\n",
    "    width=800)\n",
    "fig.update_layout(legend=dict(x=0, y=1))\n",
    "\n",
    "# Save as Image\n",
    "plt.savefig('pca_3d_principle_plot.png')\n",
    "\n",
    "fig.show()"
   ]
  },
  {
   "cell_type": "code",
   "execution_count": null,
   "metadata": {
    "colab": {
     "base_uri": "https://localhost:8080/",
     "height": 35
    },
    "executionInfo": {
     "elapsed": 5,
     "status": "ok",
     "timestamp": 1670105826387,
     "user": {
      "displayName": "dramicos",
      "userId": "18046899510137570362"
     },
     "user_tz": 360
    },
    "id": "_OHUbzE1PDJ6",
    "outputId": "d7e2b557-c21d-4a32-dfcb-ace39ada99da"
   },
   "outputs": [],
   "source": []
  },
  {
   "cell_type": "markdown",
   "metadata": {
    "id": "BPHfNAS5PDJ6"
   },
   "source": [
    "# Neural Net approach"
   ]
  },
  {
   "cell_type": "markdown",
   "metadata": {
    "id": "Yfi-5P0NPDJ6"
   },
   "source": [
    "#### Use Keras-Tuner to find best parameters to optimize the model"
   ]
  },
  {
   "cell_type": "code",
   "execution_count": null,
   "metadata": {
    "executionInfo": {
     "elapsed": 3,
     "status": "ok",
     "timestamp": 1670105826387,
     "user": {
      "displayName": "dramicos",
      "userId": "18046899510137570362"
     },
     "user_tz": 360
    },
    "id": "U8uLfxvYPDJ7"
   },
   "outputs": [],
   "source": [
    "# Create a method that creates a new Sequential model with hyperparameter options:  method based off of class activities\n",
    "def create_model(hp):\n",
    "    nn_model = tf.keras.models.Sequential()\n",
    "\n",
    "    # Allow keras-tuner to decide which activation function to use in hidden layers\n",
    "    activation = hp.Choice('activation',['relu','selu'])\n",
    "    \n",
    "    # Allow keras-tuner to decide number of neurons in first layer\n",
    "    # Input dimensions set to X_train_scaled.shape[1] to be automatically set to the number of features(columns)\n",
    "    nn_model.add(tf.keras.layers.Dense(units=hp.Int('first_units',\n",
    "        min_value=16,\n",
    "        max_value=320,\n",
    "        step=16), activation=activation, input_dim=X_train_scaled.shape[1]))\n",
    "\n",
    "    # Allow keras-tuner to decide number of hidden layers and neurons in hidden layers\n",
    "    for i in range(hp.Int('num_layers', 1, 5)):\n",
    "        nn_model.add(tf.keras.layers.Dense(units=hp.Int('units_' + str(i),\n",
    "            min_value=16,\n",
    "            max_value=160,\n",
    "            step=16),\n",
    "            activation=activation))\n",
    "    \n",
    "    nn_model.add(tf.keras.layers.Dense(units=1, activation=\"sigmoid\"))\n",
    "    hp_learning_rate = hp.Choice('learning_rate', values=[1e-2, 1e-3, 1e-4])\n",
    "    # Compile the model\n",
    "    nn_model.compile(loss=tf.keras.losses.BinaryCrossentropy(from_logits=True), optimizer=tf.keras.optimizers.Adam(learning_rate=hp_learning_rate), metrics=['accuracy', tf.keras.metrics.FalseNegatives(thresholds=0)])\n",
    "    \n",
    "    return nn_model"
   ]
  },
  {
   "cell_type": "code",
   "execution_count": null,
   "metadata": {
    "colab": {
     "base_uri": "https://localhost:8080/"
    },
    "executionInfo": {
     "elapsed": 3578,
     "status": "ok",
     "timestamp": 1670105829962,
     "user": {
      "displayName": "dramicos",
      "userId": "18046899510137570362"
     },
     "user_tz": 360
    },
    "id": "GGH-ccmvPDJ7",
    "outputId": "07016969-dfde-4146-ad82-dfc2b0659d0c"
   },
   "outputs": [],
   "source": [
    "!pip install keras_tuner"
   ]
  },
  {
   "cell_type": "code",
   "execution_count": null,
   "metadata": {
    "executionInfo": {
     "elapsed": 178,
     "status": "ok",
     "timestamp": 1670105830138,
     "user": {
      "displayName": "dramicos",
      "userId": "18046899510137570362"
     },
     "user_tz": 360
    },
    "id": "yguvOi0mPDJ7"
   },
   "outputs": [],
   "source": [
    "# Import the keras-tuner library\n",
    "import keras_tuner as kt\n",
    "\n",
    "tuner = kt.Hyperband(\n",
    "    create_model,\n",
    "    overwrite=True,\n",
    "    objective=\"val_accuracy\",\n",
    "    factor=3,\n",
    "    max_epochs=50,\n",
    "    hyperband_iterations=2)"
   ]
  },
  {
   "cell_type": "markdown",
   "metadata": {
    "id": "LiN6z_5HPDJ7"
   },
   "source": [
    "# Warning:  The next step can take up to 10 minutes."
   ]
  },
  {
   "cell_type": "code",
   "execution_count": null,
   "metadata": {
    "executionInfo": {
     "elapsed": 2,
     "status": "ok",
     "timestamp": 1670105830138,
     "user": {
      "displayName": "dramicos",
      "userId": "18046899510137570362"
     },
     "user_tz": 360
    },
    "id": "8XTwQq5tTrsn"
   },
   "outputs": [],
   "source": [
    "stop_early = tf.keras.callbacks.EarlyStopping(monitor='val_loss', patience=5)"
   ]
  },
  {
   "cell_type": "code",
   "execution_count": null,
   "metadata": {
    "colab": {
     "base_uri": "https://localhost:8080/"
    },
    "executionInfo": {
     "elapsed": 503099,
     "status": "ok",
     "timestamp": 1670106333236,
     "user": {
      "displayName": "dramicos",
      "userId": "18046899510137570362"
     },
     "user_tz": 360
    },
    "id": "Ajj3OkIHPDJ7",
    "outputId": "704ad1f3-ee14-4c30-f207-66cdfd09286a"
   },
   "outputs": [],
   "source": [
    "# Run the keras-tuner search for best hyperparameters\n",
    "tuner.search(X_train_scaled,y_train,epochs=30,validation_data=(X_test_scaled,y_test))"
   ]
  },
  {
   "cell_type": "code",
   "execution_count": null,
   "metadata": {
    "colab": {
     "base_uri": "https://localhost:8080/"
    },
    "executionInfo": {
     "elapsed": 13,
     "status": "ok",
     "timestamp": 1670106333237,
     "user": {
      "displayName": "dramicos",
      "userId": "18046899510137570362"
     },
     "user_tz": 360
    },
    "id": "J7QPPeLNPDJ7",
    "outputId": "66a28f99-0c7a-478a-a11a-48c6c09f05ea"
   },
   "outputs": [],
   "source": [
    "tuner.oracle.get_best_trials(num_trials=1)[0].hyperparameters.values"
   ]
  },
  {
   "cell_type": "code",
   "execution_count": null,
   "metadata": {
    "executionInfo": {
     "elapsed": 9,
     "status": "ok",
     "timestamp": 1670106333237,
     "user": {
      "displayName": "dramicos",
      "userId": "18046899510137570362"
     },
     "user_tz": 360
    },
    "id": "21BzaLJQPDJ7"
   },
   "outputs": [],
   "source": [
    "# Save the best hyperparameters from the search to put into the model\n",
    "best_hp = tuner.get_best_hyperparameters()[0]"
   ]
  },
  {
   "cell_type": "code",
   "execution_count": null,
   "metadata": {
    "colab": {
     "base_uri": "https://localhost:8080/"
    },
    "executionInfo": {
     "elapsed": 195,
     "status": "ok",
     "timestamp": 1670106333424,
     "user": {
      "displayName": "dramicos",
      "userId": "18046899510137570362"
     },
     "user_tz": 360
    },
    "id": "9wGV13PkPDJ7",
    "outputId": "88c32d9f-17f2-4059-f64c-51dfd7bf1784"
   },
   "outputs": [],
   "source": [
    "# Define the model using the parameters from the tuner\n",
    "best_model = tuner.hypermodel.build(best_hp)\n",
    "# Check the structure of the model\n",
    "best_model.summary()"
   ]
  },
  {
   "cell_type": "code",
   "execution_count": null,
   "metadata": {},
   "outputs": [],
   "source": [
    "# Create a DataFrame containing training history\n",
    "history_balanced_df = pd.DataFrame(fit_model.history)\n",
    "# Increase the index by 1 to match the number of epochs\n",
    "history_balanced_df.index += 1\n",
    "# Plot the loss\n",
    "history_balanced_df.plot(y=\"loss\")\n",
    "\n",
    "# Save as Image\n",
    "plt.savefig('keras_loss.png')\n",
    "\n",
    "plt.show()"
   ]
  },
  {
   "cell_type": "code",
   "execution_count": null,
   "metadata": {},
   "outputs": [],
   "source": [
    "# Plot the accuracy\n",
    "history_balanced_df.plot(y=\"accuracy\")\n",
    "\n",
    "# Save as Image\n",
    "plt.savefig('keras_accuracy.png')\n",
    "\n",
    "plt.show()"
   ]
  },
  {
   "cell_type": "code",
   "execution_count": null,
   "metadata": {
    "colab": {
     "base_uri": "https://localhost:8080/"
    },
    "executionInfo": {
     "elapsed": 9736,
     "status": "ok",
     "timestamp": 1670106343156,
     "user": {
      "displayName": "dramicos",
      "userId": "18046899510137570362"
     },
     "user_tz": 360
    },
    "id": "XRfABGaFPDJ7",
    "outputId": "c261ddf8-549c-41a2-fa7f-1f17d076e929"
   },
   "outputs": [],
   "source": [
    "# Train the model\n",
    "fit_model = best_model.fit(X_train_scaled, y_train, epochs=100)"
   ]
  },
  {
   "cell_type": "code",
   "execution_count": null,
   "metadata": {
    "colab": {
     "base_uri": "https://localhost:8080/"
    },
    "executionInfo": {
     "elapsed": 665,
     "status": "ok",
     "timestamp": 1670106343819,
     "user": {
      "displayName": "dramicos",
      "userId": "18046899510137570362"
     },
     "user_tz": 360
    },
    "id": "B0pPtksYPDJ8",
    "outputId": "0b2d0e1d-1335-4a3f-8e6e-744e61d81fcb"
   },
   "outputs": [],
   "source": [
    "# Evaluate the model using the test data\n",
    "model_loss, model_accuracy, fn = best_model.evaluate(X_test_scaled,y_test,verbose=2)\n",
    "print(f\"Loss: {model_loss}, Accuracy: {model_accuracy*100} %, False Negative Rate: {fn} %\")"
   ]
  },
  {
   "cell_type": "markdown",
   "metadata": {
    "id": "SfP2dprmPDJ8"
   },
   "source": [
    "## We were able to get the best results with the neural network by getting the highest accuracy and lowest false negative rate"
   ]
  }
 ],
 "metadata": {
  "colab": {
   "collapsed_sections": [
    "4IPYFpQXPDJx",
    "2Iop7XZsPDJy",
    "6X-py8dbPDJy"
   ],
   "provenance": []
  },
  "kernelspec": {
   "display_name": "Python 3 (ipykernel)",
   "language": "python",
   "name": "python3"
  },
  "language_info": {
   "codemirror_mode": {
    "name": "ipython",
    "version": 3
   },
   "file_extension": ".py",
   "mimetype": "text/x-python",
   "name": "python",
   "nbconvert_exporter": "python",
   "pygments_lexer": "ipython3",
   "version": "3.8.13"
  },
  "vscode": {
   "interpreter": {
    "hash": "37e7fb2da5e50466637845802289cd9557b44701aaa67a0ddeb3b500da7113d1"
   }
  }
 },
 "nbformat": 4,
 "nbformat_minor": 1
}
